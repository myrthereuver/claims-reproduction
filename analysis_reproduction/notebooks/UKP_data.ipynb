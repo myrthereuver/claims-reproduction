{
 "cells": [
  {
   "cell_type": "code",
   "execution_count": 1,
   "id": "41d592bc-78ce-4728-8d8e-6f707f0193af",
   "metadata": {},
   "outputs": [],
   "source": [
    "import sklearn\n",
    "import pandas as pd\n",
    "import matplotlib.pyplot as plt\n",
    "import numpy as np\n",
    "import seaborn as sn"
   ]
  },
  {
   "cell_type": "code",
   "execution_count": 2,
   "id": "da0c705d-530a-4a7f-ba5c-732137b837a8",
   "metadata": {},
   "outputs": [],
   "source": [
    "topics =[\"abortion\", \"cloning\", \"death_penalty\", \"gun_control\", \"marijuana_legalization\", \"minimum_wage\", \"nuclear_energy\", \"school_uniforms\"]"
   ]
  },
  {
   "cell_type": "code",
   "execution_count": 3,
   "id": "a0416ba4-cc2d-4bf8-b20a-453dba3a4eed",
   "metadata": {},
   "outputs": [],
   "source": [
    "def import_data(topic):\n",
    "    input_file = f'/Users/myrthereuver/PycharmProjects/Claim_reproduction/datasets/ukp/data/complete/{topic}.tsv'\n",
    "    df_current = pd.read_csv(input_file.format(topic), delimiter = \"\\t\", quoting=3)\n",
    "    return df_current"
   ]
  },
  {
   "cell_type": "code",
   "execution_count": 4,
   "id": "be326686-9b16-492e-9220-284285d22683",
   "metadata": {},
   "outputs": [
    {
     "data": {
      "text/html": [
       "<div>\n",
       "<style scoped>\n",
       "    .dataframe tbody tr th:only-of-type {\n",
       "        vertical-align: middle;\n",
       "    }\n",
       "\n",
       "    .dataframe tbody tr th {\n",
       "        vertical-align: top;\n",
       "    }\n",
       "\n",
       "    .dataframe thead th {\n",
       "        text-align: right;\n",
       "    }\n",
       "</style>\n",
       "<table border=\"1\" class=\"dataframe\">\n",
       "  <thead>\n",
       "    <tr style=\"text-align: right;\">\n",
       "      <th></th>\n",
       "      <th>topic</th>\n",
       "      <th>retrievedUrl</th>\n",
       "      <th>archivedUrl</th>\n",
       "      <th>sentenceHash</th>\n",
       "      <th>sentence</th>\n",
       "      <th>annotation</th>\n",
       "      <th>set</th>\n",
       "    </tr>\n",
       "  </thead>\n",
       "  <tbody>\n",
       "    <tr>\n",
       "      <th>0</th>\n",
       "      <td>abortion</td>\n",
       "      <td>http://2012election.procon.org/view.additional...</td>\n",
       "      <td>http://web.archive.org/web/20150415052859/http...</td>\n",
       "      <td>a1d2d5656a5029eb558812b8259b6567</td>\n",
       "      <td>This means it has to steer monetary policy to ...</td>\n",
       "      <td>NoArgument</td>\n",
       "      <td>val</td>\n",
       "    </tr>\n",
       "    <tr>\n",
       "      <th>1</th>\n",
       "      <td>abortion</td>\n",
       "      <td>http://www.listland.com/top-10-arguments-in-su...</td>\n",
       "      <td>http://web.archive.org/web/20160829133344/http...</td>\n",
       "      <td>a4374eb8cae2c1d52499d0489c7bfb1d</td>\n",
       "      <td>Where did you get that ?</td>\n",
       "      <td>NoArgument</td>\n",
       "      <td>train</td>\n",
       "    </tr>\n",
       "    <tr>\n",
       "      <th>2</th>\n",
       "      <td>abortion</td>\n",
       "      <td>http://www.americamagazine.org/issue/feminist-...</td>\n",
       "      <td>http://web.archive.org/web/20160422223822/http...</td>\n",
       "      <td>825b1a5e0e7915950a2a4a657230d530</td>\n",
       "      <td>Nathanson later became pro-life .</td>\n",
       "      <td>NoArgument</td>\n",
       "      <td>val</td>\n",
       "    </tr>\n",
       "    <tr>\n",
       "      <th>3</th>\n",
       "      <td>abortion</td>\n",
       "      <td>http://www.strangenotions.com/answering-three-...</td>\n",
       "      <td>http://web.archive.org/web/20160916225634/http...</td>\n",
       "      <td>644379f8e228f50f0871270164878c9b</td>\n",
       "      <td>In this case we may never do evil ( directly a...</td>\n",
       "      <td>Argument_against</td>\n",
       "      <td>train</td>\n",
       "    </tr>\n",
       "    <tr>\n",
       "      <th>4</th>\n",
       "      <td>abortion</td>\n",
       "      <td>http://www.healthguidance.org/entry/13561/1/Pr...</td>\n",
       "      <td>http://web.archive.org/web/20160425042210/http...</td>\n",
       "      <td>51eefb36e8947e42403e336536cb00f0</td>\n",
       "      <td>With that I would like to give everyone someth...</td>\n",
       "      <td>NoArgument</td>\n",
       "      <td>test</td>\n",
       "    </tr>\n",
       "  </tbody>\n",
       "</table>\n",
       "</div>"
      ],
      "text/plain": [
       "      topic                                       retrievedUrl  \\\n",
       "0  abortion  http://2012election.procon.org/view.additional...   \n",
       "1  abortion  http://www.listland.com/top-10-arguments-in-su...   \n",
       "2  abortion  http://www.americamagazine.org/issue/feminist-...   \n",
       "3  abortion  http://www.strangenotions.com/answering-three-...   \n",
       "4  abortion  http://www.healthguidance.org/entry/13561/1/Pr...   \n",
       "\n",
       "                                         archivedUrl  \\\n",
       "0  http://web.archive.org/web/20150415052859/http...   \n",
       "1  http://web.archive.org/web/20160829133344/http...   \n",
       "2  http://web.archive.org/web/20160422223822/http...   \n",
       "3  http://web.archive.org/web/20160916225634/http...   \n",
       "4  http://web.archive.org/web/20160425042210/http...   \n",
       "\n",
       "                       sentenceHash  \\\n",
       "0  a1d2d5656a5029eb558812b8259b6567   \n",
       "1  a4374eb8cae2c1d52499d0489c7bfb1d   \n",
       "2  825b1a5e0e7915950a2a4a657230d530   \n",
       "3  644379f8e228f50f0871270164878c9b   \n",
       "4  51eefb36e8947e42403e336536cb00f0   \n",
       "\n",
       "                                            sentence        annotation    set  \n",
       "0  This means it has to steer monetary policy to ...        NoArgument    val  \n",
       "1                           Where did you get that ?        NoArgument  train  \n",
       "2                  Nathanson later became pro-life .        NoArgument    val  \n",
       "3  In this case we may never do evil ( directly a...  Argument_against  train  \n",
       "4  With that I would like to give everyone someth...        NoArgument   test  "
      ]
     },
     "execution_count": 4,
     "metadata": {},
     "output_type": "execute_result"
    }
   ],
   "source": [
    "data_abortion = import_data(\"abortion\")\n",
    "data_abortion.head()"
   ]
  },
  {
   "cell_type": "code",
   "execution_count": 5,
   "id": "4a7a7fda-383d-4ed8-affa-229d2abb7e2f",
   "metadata": {},
   "outputs": [],
   "source": [
    "data_list = [import_data(t) for t in topics]\n",
    "all_data = pd.concat(data_list)"
   ]
  },
  {
   "cell_type": "code",
   "execution_count": 6,
   "id": "9bb5fa82-10c4-4bfa-bf19-e16f29b28928",
   "metadata": {},
   "outputs": [
    {
     "data": {
      "text/html": [
       "<div>\n",
       "<style scoped>\n",
       "    .dataframe tbody tr th:only-of-type {\n",
       "        vertical-align: middle;\n",
       "    }\n",
       "\n",
       "    .dataframe tbody tr th {\n",
       "        vertical-align: top;\n",
       "    }\n",
       "\n",
       "    .dataframe thead th {\n",
       "        text-align: right;\n",
       "    }\n",
       "</style>\n",
       "<table border=\"1\" class=\"dataframe\">\n",
       "  <thead>\n",
       "    <tr style=\"text-align: right;\">\n",
       "      <th></th>\n",
       "      <th>topic</th>\n",
       "      <th>retrievedUrl</th>\n",
       "      <th>archivedUrl</th>\n",
       "      <th>sentenceHash</th>\n",
       "      <th>sentence</th>\n",
       "      <th>annotation</th>\n",
       "      <th>set</th>\n",
       "    </tr>\n",
       "  </thead>\n",
       "  <tbody>\n",
       "    <tr>\n",
       "      <th>0</th>\n",
       "      <td>abortion</td>\n",
       "      <td>http://2012election.procon.org/view.additional...</td>\n",
       "      <td>http://web.archive.org/web/20150415052859/http...</td>\n",
       "      <td>a1d2d5656a5029eb558812b8259b6567</td>\n",
       "      <td>This means it has to steer monetary policy to ...</td>\n",
       "      <td>NoArgument</td>\n",
       "      <td>val</td>\n",
       "    </tr>\n",
       "    <tr>\n",
       "      <th>1</th>\n",
       "      <td>abortion</td>\n",
       "      <td>http://www.listland.com/top-10-arguments-in-su...</td>\n",
       "      <td>http://web.archive.org/web/20160829133344/http...</td>\n",
       "      <td>a4374eb8cae2c1d52499d0489c7bfb1d</td>\n",
       "      <td>Where did you get that ?</td>\n",
       "      <td>NoArgument</td>\n",
       "      <td>train</td>\n",
       "    </tr>\n",
       "    <tr>\n",
       "      <th>2</th>\n",
       "      <td>abortion</td>\n",
       "      <td>http://www.americamagazine.org/issue/feminist-...</td>\n",
       "      <td>http://web.archive.org/web/20160422223822/http...</td>\n",
       "      <td>825b1a5e0e7915950a2a4a657230d530</td>\n",
       "      <td>Nathanson later became pro-life .</td>\n",
       "      <td>NoArgument</td>\n",
       "      <td>val</td>\n",
       "    </tr>\n",
       "    <tr>\n",
       "      <th>3</th>\n",
       "      <td>abortion</td>\n",
       "      <td>http://www.strangenotions.com/answering-three-...</td>\n",
       "      <td>http://web.archive.org/web/20160916225634/http...</td>\n",
       "      <td>644379f8e228f50f0871270164878c9b</td>\n",
       "      <td>In this case we may never do evil ( directly a...</td>\n",
       "      <td>Argument_against</td>\n",
       "      <td>train</td>\n",
       "    </tr>\n",
       "    <tr>\n",
       "      <th>4</th>\n",
       "      <td>abortion</td>\n",
       "      <td>http://www.healthguidance.org/entry/13561/1/Pr...</td>\n",
       "      <td>http://web.archive.org/web/20160425042210/http...</td>\n",
       "      <td>51eefb36e8947e42403e336536cb00f0</td>\n",
       "      <td>With that I would like to give everyone someth...</td>\n",
       "      <td>NoArgument</td>\n",
       "      <td>test</td>\n",
       "    </tr>\n",
       "  </tbody>\n",
       "</table>\n",
       "</div>"
      ],
      "text/plain": [
       "      topic                                       retrievedUrl  \\\n",
       "0  abortion  http://2012election.procon.org/view.additional...   \n",
       "1  abortion  http://www.listland.com/top-10-arguments-in-su...   \n",
       "2  abortion  http://www.americamagazine.org/issue/feminist-...   \n",
       "3  abortion  http://www.strangenotions.com/answering-three-...   \n",
       "4  abortion  http://www.healthguidance.org/entry/13561/1/Pr...   \n",
       "\n",
       "                                         archivedUrl  \\\n",
       "0  http://web.archive.org/web/20150415052859/http...   \n",
       "1  http://web.archive.org/web/20160829133344/http...   \n",
       "2  http://web.archive.org/web/20160422223822/http...   \n",
       "3  http://web.archive.org/web/20160916225634/http...   \n",
       "4  http://web.archive.org/web/20160425042210/http...   \n",
       "\n",
       "                       sentenceHash  \\\n",
       "0  a1d2d5656a5029eb558812b8259b6567   \n",
       "1  a4374eb8cae2c1d52499d0489c7bfb1d   \n",
       "2  825b1a5e0e7915950a2a4a657230d530   \n",
       "3  644379f8e228f50f0871270164878c9b   \n",
       "4  51eefb36e8947e42403e336536cb00f0   \n",
       "\n",
       "                                            sentence        annotation    set  \n",
       "0  This means it has to steer monetary policy to ...        NoArgument    val  \n",
       "1                           Where did you get that ?        NoArgument  train  \n",
       "2                  Nathanson later became pro-life .        NoArgument    val  \n",
       "3  In this case we may never do evil ( directly a...  Argument_against  train  \n",
       "4  With that I would like to give everyone someth...        NoArgument   test  "
      ]
     },
     "execution_count": 6,
     "metadata": {},
     "output_type": "execute_result"
    }
   ],
   "source": [
    "all_data.head()"
   ]
  },
  {
   "cell_type": "code",
   "execution_count": 7,
   "id": "c7c219f8-93f0-4604-aa7f-34ee4f6aef56",
   "metadata": {},
   "outputs": [
    {
     "data": {
      "text/plain": [
       "train    18341\n",
       "test      5109\n",
       "val       2042\n",
       "Name: set, dtype: int64"
      ]
     },
     "execution_count": 7,
     "metadata": {},
     "output_type": "execute_result"
    }
   ],
   "source": [
    "all_data['set'].value_counts()"
   ]
  },
  {
   "cell_type": "code",
   "execution_count": 8,
   "id": "07e1582f-e14f-4f4d-a564-bdb1b980553f",
   "metadata": {},
   "outputs": [
    {
     "data": {
      "text/plain": [
       "25492"
      ]
     },
     "execution_count": 8,
     "metadata": {},
     "output_type": "execute_result"
    }
   ],
   "source": [
    "len(all_data)"
   ]
  },
  {
   "cell_type": "markdown",
   "id": "187fe63a-c246-460b-9413-4b52674ec4b5",
   "metadata": {},
   "source": [
    "#### genre / domain"
   ]
  }
 ],
 "metadata": {
  "kernelspec": {
   "display_name": "Python 3",
   "language": "python",
   "name": "python3"
  },
  "language_info": {
   "codemirror_mode": {
    "name": "ipython",
    "version": 3
   },
   "file_extension": ".py",
   "mimetype": "text/x-python",
   "name": "python",
   "nbconvert_exporter": "python",
   "pygments_lexer": "ipython3",
   "version": "3.9.5"
  }
 },
 "nbformat": 4,
 "nbformat_minor": 5
}
