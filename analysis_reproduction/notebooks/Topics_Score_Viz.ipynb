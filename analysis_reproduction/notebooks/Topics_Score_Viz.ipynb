{
 "cells": [
  {
   "cell_type": "code",
   "execution_count": 1,
   "id": "8846afbb-bceb-41c3-867a-1ae18179d5ad",
   "metadata": {},
   "outputs": [],
   "source": [
    "import sklearn\n",
    "import pandas as pd\n",
    "import matplotlib.pyplot as plt\n",
    "import numpy as np\n",
    "import seaborn as sn"
   ]
  },
  {
   "cell_type": "code",
   "execution_count": 2,
   "id": "998985eb-5eb5-48fb-8592-bfabe35050c2",
   "metadata": {},
   "outputs": [],
   "source": [
    "import warnings\n",
    "warnings.filterwarnings('ignore')"
   ]
  },
  {
   "cell_type": "code",
   "execution_count": 3,
   "id": "73ec3c6a-3819-41e9-b435-5ab09762e356",
   "metadata": {},
   "outputs": [],
   "source": [
    "topics =[\"abortion\", \"cloning\", \"death penalty\", \"gun control\", \"marijuana legal\", \"minimum wage\", \"nuclear energy\", \"school uniforms\"]\n",
    "seeds = [\"Seed1\", \"Seed2\", \"Seed3\", \"Seed4\", \"Seed5\", \"Seed6\", \"Seed7\", \"Seed8\", \"Seed9\", \"Seed10\"]"
   ]
  },
  {
   "cell_type": "markdown",
   "id": "d41703ee-e4a3-4be7-80e4-9e9608c684b3",
   "metadata": {},
   "source": [
    "### Importing Data"
   ]
  },
  {
   "cell_type": "code",
   "execution_count": 4,
   "id": "7c83832d-822c-485e-a5e3-cce0ee7aa5d2",
   "metadata": {},
   "outputs": [],
   "source": [
    "df_current = pd.read_csv('BERT_Topics_score_last.csv', delimiter = \",\")"
   ]
  },
  {
   "cell_type": "markdown",
   "id": "9f0233ee-e69f-45cc-9366-098b7a97b4cd",
   "metadata": {},
   "source": [
    "### Transforming Data"
   ]
  },
  {
   "cell_type": "code",
   "execution_count": 5,
   "id": "f5a98757-7477-48d1-89e1-966d7ff710e8",
   "metadata": {},
   "outputs": [],
   "source": [
    "df_current = df_current.apply(lambda x: x.str.replace(',','.'))"
   ]
  },
  {
   "cell_type": "code",
   "execution_count": 6,
   "id": "9c583e83-b599-480e-8050-385c640c85a7",
   "metadata": {},
   "outputs": [],
   "source": [
    "df_current = df_current.set_index(['Seed', 'Metric']).stack().rename_axis(['Seed', 'Metric', 'Topic']).reset_index(name='Value')"
   ]
  },
  {
   "cell_type": "code",
   "execution_count": 7,
   "id": "1fa970a6-4ab2-4a35-a103-63fadc2c790c",
   "metadata": {},
   "outputs": [],
   "source": [
    "df_current[\"Value\"] = df_current[\"Value\"].astype(float)"
   ]
  },
  {
   "cell_type": "code",
   "execution_count": 8,
   "id": "37f060f6-d7ed-4700-87bc-72cfa08961b5",
   "metadata": {},
   "outputs": [
    {
     "data": {
      "text/html": [
       "<div>\n",
       "<style scoped>\n",
       "    .dataframe tbody tr th:only-of-type {\n",
       "        vertical-align: middle;\n",
       "    }\n",
       "\n",
       "    .dataframe tbody tr th {\n",
       "        vertical-align: top;\n",
       "    }\n",
       "\n",
       "    .dataframe thead th {\n",
       "        text-align: right;\n",
       "    }\n",
       "</style>\n",
       "<table border=\"1\" class=\"dataframe\">\n",
       "  <thead>\n",
       "    <tr style=\"text-align: right;\">\n",
       "      <th></th>\n",
       "      <th>Seed</th>\n",
       "      <th>Metric</th>\n",
       "      <th>Topic</th>\n",
       "      <th>Value</th>\n",
       "    </tr>\n",
       "  </thead>\n",
       "  <tbody>\n",
       "    <tr>\n",
       "      <th>0</th>\n",
       "      <td>Seed1</td>\n",
       "      <td>F1-avg (macroweigh)</td>\n",
       "      <td>abortion</td>\n",
       "      <td>0.5320</td>\n",
       "    </tr>\n",
       "    <tr>\n",
       "      <th>1</th>\n",
       "      <td>Seed1</td>\n",
       "      <td>F1-avg (macroweigh)</td>\n",
       "      <td>cloning</td>\n",
       "      <td>0.7067</td>\n",
       "    </tr>\n",
       "    <tr>\n",
       "      <th>2</th>\n",
       "      <td>Seed1</td>\n",
       "      <td>F1-avg (macroweigh)</td>\n",
       "      <td>death penalty</td>\n",
       "      <td>0.5712</td>\n",
       "    </tr>\n",
       "    <tr>\n",
       "      <th>3</th>\n",
       "      <td>Seed1</td>\n",
       "      <td>F1-avg (macroweigh)</td>\n",
       "      <td>gun control</td>\n",
       "      <td>0.5380</td>\n",
       "    </tr>\n",
       "    <tr>\n",
       "      <th>4</th>\n",
       "      <td>Seed1</td>\n",
       "      <td>F1-avg (macroweigh)</td>\n",
       "      <td>marijuana legal</td>\n",
       "      <td>0.6002</td>\n",
       "    </tr>\n",
       "    <tr>\n",
       "      <th>...</th>\n",
       "      <td>...</td>\n",
       "      <td>...</td>\n",
       "      <td>...</td>\n",
       "      <td>...</td>\n",
       "    </tr>\n",
       "    <tr>\n",
       "      <th>635</th>\n",
       "      <td>Seed10</td>\n",
       "      <td>R no arg</td>\n",
       "      <td>gun control</td>\n",
       "      <td>79.6300</td>\n",
       "    </tr>\n",
       "    <tr>\n",
       "      <th>636</th>\n",
       "      <td>Seed10</td>\n",
       "      <td>R no arg</td>\n",
       "      <td>marijuana legal</td>\n",
       "      <td>91.3000</td>\n",
       "    </tr>\n",
       "    <tr>\n",
       "      <th>637</th>\n",
       "      <td>Seed10</td>\n",
       "      <td>R no arg</td>\n",
       "      <td>minimum wage</td>\n",
       "      <td>82.9600</td>\n",
       "    </tr>\n",
       "    <tr>\n",
       "      <th>638</th>\n",
       "      <td>Seed10</td>\n",
       "      <td>R no arg</td>\n",
       "      <td>nuclear energy</td>\n",
       "      <td>80.9000</td>\n",
       "    </tr>\n",
       "    <tr>\n",
       "      <th>639</th>\n",
       "      <td>Seed10</td>\n",
       "      <td>R no arg</td>\n",
       "      <td>school uniforms</td>\n",
       "      <td>92.2200</td>\n",
       "    </tr>\n",
       "  </tbody>\n",
       "</table>\n",
       "<p>640 rows × 4 columns</p>\n",
       "</div>"
      ],
      "text/plain": [
       "       Seed               Metric            Topic    Value\n",
       "0     Seed1  F1-avg (macroweigh)         abortion   0.5320\n",
       "1     Seed1  F1-avg (macroweigh)          cloning   0.7067\n",
       "2     Seed1  F1-avg (macroweigh)    death penalty   0.5712\n",
       "3     Seed1  F1-avg (macroweigh)      gun control   0.5380\n",
       "4     Seed1  F1-avg (macroweigh)  marijuana legal   0.6002\n",
       "..      ...                  ...              ...      ...\n",
       "635  Seed10             R no arg      gun control  79.6300\n",
       "636  Seed10             R no arg  marijuana legal  91.3000\n",
       "637  Seed10             R no arg     minimum wage  82.9600\n",
       "638  Seed10             R no arg   nuclear energy  80.9000\n",
       "639  Seed10             R no arg  school uniforms  92.2200\n",
       "\n",
       "[640 rows x 4 columns]"
      ]
     },
     "execution_count": 8,
     "metadata": {},
     "output_type": "execute_result"
    }
   ],
   "source": [
    "df_current"
   ]
  },
  {
   "cell_type": "markdown",
   "id": "48a76018-ceb1-45c8-979c-11d7c1431329",
   "metadata": {},
   "source": [
    "### Metrics in Data"
   ]
  },
  {
   "cell_type": "code",
   "execution_count": 9,
   "id": "0caed4b1-845c-4418-a90b-b781f707d5b3",
   "metadata": {},
   "outputs": [
    {
     "data": {
      "text/plain": [
       "{'F1-avg (macroweigh)', 'P no arg', 'P+', 'P-', 'R no arg', 'R+', 'R-', 'acc'}"
      ]
     },
     "execution_count": 9,
     "metadata": {},
     "output_type": "execute_result"
    }
   ],
   "source": [
    "set(df_current[\"Metric\"].values.tolist())"
   ]
  },
  {
   "cell_type": "markdown",
   "id": "80cbc635-ce4f-4fec-9397-91010fcbda9c",
   "metadata": {},
   "source": [
    "### Data with only F1 or only accuracy"
   ]
  },
  {
   "cell_type": "code",
   "execution_count": 10,
   "id": "039274a4-f433-4566-9618-3436bd5d80ec",
   "metadata": {},
   "outputs": [],
   "source": [
    "df_current_F1 = df_current[df_current.Metric == \"F1-avg (macroweigh)\"]\n",
    "df_current_acc = df_current[df_current.Metric == \"acc\"]"
   ]
  },
  {
   "cell_type": "markdown",
   "id": "402cbdf2-779c-47f8-8a7a-3669adce4365",
   "metadata": {},
   "source": [
    "### Data with everything but F1"
   ]
  },
  {
   "cell_type": "code",
   "execution_count": 11,
   "id": "4c5289c9-072a-4d6e-9fa0-3cba64ee4bb3",
   "metadata": {},
   "outputs": [],
   "source": [
    "df_current_F1_all = df_current[df_current.Metric != \"F1-avg (macroweigh)\"]"
   ]
  },
  {
   "cell_type": "markdown",
   "id": "9f1fab8a-aa5d-4de1-8969-9538120dad5d",
   "metadata": {},
   "source": [
    "### Data with all Against class Precision & Recall"
   ]
  },
  {
   "cell_type": "code",
   "execution_count": 12,
   "id": "e8a1c974-581a-43a4-952e-1f68de8e1de7",
   "metadata": {},
   "outputs": [],
   "source": [
    "df_negativeClass = df_current[(df_current.Metric == 'R-') | (df_current.Metric == 'P-')]"
   ]
  },
  {
   "cell_type": "markdown",
   "id": "7dbdf19a-79ae-4db5-80f0-57d8120e4308",
   "metadata": {},
   "source": [
    "### Data with Pro Class Precision & Recall"
   ]
  },
  {
   "cell_type": "code",
   "execution_count": 13,
   "id": "f13e2276-aa28-45dc-a629-43f02959442c",
   "metadata": {},
   "outputs": [],
   "source": [
    "df_PositiveClass = df_current[(df_current.Metric == 'R+') | (df_current.Metric == 'P+')]"
   ]
  },
  {
   "cell_type": "markdown",
   "id": "e37ec37c-e8ee-4cd4-bd08-f1c0265a5453",
   "metadata": {},
   "source": [
    "### Data with Precision & recall of both Pro and Against Class"
   ]
  },
  {
   "cell_type": "code",
   "execution_count": 14,
   "id": "873e0245-0e1b-4eb7-b463-ecfde743d518",
   "metadata": {},
   "outputs": [],
   "source": [
    "df_Precision_Recall = df_current[(df_current.Metric == 'R-') | (df_current.Metric == 'P-') | (df_current.Metric == 'R+') | (df_current.Metric == 'P+')]"
   ]
  },
  {
   "cell_type": "code",
   "execution_count": 15,
   "id": "bd2cdda7-a993-4853-8273-4b899339f18b",
   "metadata": {},
   "outputs": [],
   "source": [
    "df_noArg = df_current[(df_current.Metric == 'P no arg') | (df_current.Metric == 'R no arg')]\n",
    "df_noArg[\"Class\"] = \"NoArgument\""
   ]
  },
  {
   "cell_type": "markdown",
   "id": "bd1ce6c5-4c3c-482a-ab20-94f925de8318",
   "metadata": {},
   "source": [
    "## Plot 1: all metrics, all topics (too much)"
   ]
  },
  {
   "cell_type": "code",
   "execution_count": 243,
   "id": "7fc4dd86-7f41-4988-a294-d8b0960c1df5",
   "metadata": {},
   "outputs": [],
   "source": [
    "topics =[\"abortion\", \"cloning\", \"death pen\", \"gun contr\", \"marijuana\", \"min wage\", \"nuclear\", \"school unif.\"]"
   ]
  },
  {
   "cell_type": "code",
   "execution_count": 17,
   "id": "ed332d4e-e8f9-47f8-8bfd-ba4a06cad082",
   "metadata": {},
   "outputs": [
    {
     "data": {
      "text/plain": [
       "[(0.0, 100.0)]"
      ]
     },
     "execution_count": 17,
     "metadata": {},
     "output_type": "execute_result"
    },
    {
     "data": {
      "image/png": "[encoded data removed]",
      "text/plain": [
       "<Figure size 1152x432 with 1 Axes>"
      ]
     },
     "metadata": {
      "needs_background": "light"
     },
     "output_type": "display_data"
    }
   ],
   "source": [
    "plt.figure(figsize=(16, 6))\n",
    "ax = sn.barplot(x=\"Topic\", hue=\"Metric\", y=\"Value\", data=df_current_F1_all.reset_index(),)\n",
    "ax.set(ylim=(0,100))"
   ]
  },
  {
   "cell_type": "markdown",
   "id": "8466634f-a4c6-4090-a6ec-0ad67c412fe1",
   "metadata": {},
   "source": [
    "## Plot 2: Only F1, all Topics"
   ]
  },
  {
   "cell_type": "code",
   "execution_count": 18,
   "id": "427ee044-fc3f-45c9-837d-ef6517dc071a",
   "metadata": {},
   "outputs": [
    {
     "data": {
      "text/html": [
       "<div>\n",
       "<style scoped>\n",
       "    .dataframe tbody tr th:only-of-type {\n",
       "        vertical-align: middle;\n",
       "    }\n",
       "\n",
       "    .dataframe tbody tr th {\n",
       "        vertical-align: top;\n",
       "    }\n",
       "\n",
       "    .dataframe thead tr th {\n",
       "        text-align: left;\n",
       "    }\n",
       "</style>\n",
       "<table border=\"1\" class=\"dataframe\">\n",
       "  <thead>\n",
       "    <tr>\n",
       "      <th></th>\n",
       "      <th>abortion</th>\n",
       "      <th>cloning</th>\n",
       "      <th>death pen</th>\n",
       "      <th>gun contr</th>\n",
       "      <th>marijuana</th>\n",
       "      <th>min wage</th>\n",
       "      <th>nuclear</th>\n",
       "      <th>school unif.</th>\n",
       "    </tr>\n",
       "  </thead>\n",
       "  <tbody>\n",
       "    <tr>\n",
       "      <th>0</th>\n",
       "      <td>0.46</td>\n",
       "      <td>0.59</td>\n",
       "      <td>0.48</td>\n",
       "      <td>0.51</td>\n",
       "      <td>0.32</td>\n",
       "      <td>0.61</td>\n",
       "      <td>0.6</td>\n",
       "      <td>0.58</td>\n",
       "    </tr>\n",
       "  </tbody>\n",
       "</table>\n",
       "</div>"
      ],
      "text/plain": [
       "  abortion cloning death pen gun contr marijuana min wage nuclear school unif.\n",
       "0     0.46    0.59      0.48      0.51      0.32     0.61     0.6         0.58"
      ]
     },
     "execution_count": 18,
     "metadata": {},
     "output_type": "execute_result"
    }
   ],
   "source": [
    "F1_SVM = pd.DataFrame([0.46, 0.59, 0.48, 0.51, 0.32,0.61, 0.60, 0.58],index=[topics]).T\n",
    "F1_SVM"
   ]
  },
  {
   "cell_type": "code",
   "execution_count": 19,
   "id": "059acf25-0bfc-459c-9c38-c3e2f7f2fe24",
   "metadata": {},
   "outputs": [
    {
     "data": {
      "image/png": "[encoded data removed]",
      "text/plain": [
       "<Figure size 432x288 with 1 Axes>"
      ]
     },
     "metadata": {
      "needs_background": "light"
     },
     "output_type": "display_data"
    }
   ],
   "source": [
    "plt.figure(figsize=(6, 4))\n",
    "sn.set_palette(\"bright\")\n",
    "          \n",
    "ax = sn.boxplot(x=\"Topic\", y=\"Value\", zorder=0, data=df_current_F1.reset_index(),color=\"grey\", dodge=False, linewidth=1.5)\n",
    "ax.set(ylim=(0,1))\n",
    "\n",
    "sn.pointplot(data=F1_SVM, join=False, color='red', scale=0.50)\n",
    "ax.set_xticklabels(topics, fontsize=7)\n",
    "plt.ylabel('F1', fontsize=11)\n",
    "plt.xlabel('Topics', fontsize=11)\n",
    "plt.tight_layout()\n",
    "# ax.legend(['Yellow'], title='New legend')"
   ]
  },
  {
   "cell_type": "markdown",
   "id": "99afcdd0-e2f9-4b81-a829-fe0790e7a647",
   "metadata": {},
   "source": [
    "## Plot 3: Precision & Recall of the PRO class"
   ]
  },
  {
   "cell_type": "code",
   "execution_count": 20,
   "id": "cfc6ace0-1139-4599-a498-2c8d6bd7188f",
   "metadata": {},
   "outputs": [
    {
     "data": {
      "text/plain": [
       "<matplotlib.legend.Legend at 0x14202ceb0>"
      ]
     },
     "execution_count": 20,
     "metadata": {},
     "output_type": "execute_result"
    },
    {
     "data": {
      "image/png": "[encoded data removed]",
      "text/plain": [
       "<Figure size 1800x720 with 1 Axes>"
      ]
     },
     "metadata": {
      "needs_background": "light"
     },
     "output_type": "display_data"
    }
   ],
   "source": [
    "plt.figure(figsize=(25, 10))\n",
    "ax = sn.boxplot(x=\"Topic\", hue=\"Metric\", y=\"Value\", data=df_PositiveClass.reset_index(),)\n",
    "ax.set(ylim=(0,100))\n",
    "ax.axhline(51.9, ls=\"--\", color=\"blue\", label=\"Mean Precision\")\n",
    "ax.axhline(46.41, ls=\"-\", color=\"orange\", label=\"Mean Recall\")\n",
    "legend_labels, _= ax.get_legend_handles_labels()\n",
    "ax.legend(legend_labels, [ \"mean_prec\", \"mean_rec\",'Precision','Recall'], \n",
    "          bbox_to_anchor=(1,1), \n",
    "          title='Pro Argument')\n",
    "\n"
   ]
  },
  {
   "cell_type": "code",
   "execution_count": 21,
   "id": "49d3bed3-cf35-4aa8-b76a-205dcb6ec5b7",
   "metadata": {},
   "outputs": [
    {
     "data": {
      "text/plain": [
       "<matplotlib.legend.Legend at 0x1421eedc0>"
      ]
     },
     "execution_count": 21,
     "metadata": {},
     "output_type": "execute_result"
    },
    {
     "data": {
      "image/png": "[encoded data removed]",
      "text/plain": [
       "<Figure size 1800x720 with 1 Axes>"
      ]
     },
     "metadata": {
      "needs_background": "light"
     },
     "output_type": "display_data"
    }
   ],
   "source": [
    "plt.figure(figsize=(25, 10))\n",
    "ax = sn.boxplot(x=\"Topic\", hue=\"Metric\", y=\"Value\", data=df_PositiveClass.reset_index(),)\n",
    "ax.set(ylim=(0,100))\n",
    "ax.axhline(51.9, ls=\"--\", color=\"blue\", label=\"Mean Precision\")\n",
    "ax.axhline(46.41, ls=\"-\", color=\"orange\", label=\"Mean Recall\")\n",
    "legend_labels, _= ax.get_legend_handles_labels()\n",
    "ax.legend(legend_labels, [ \"mean_prec\", \"mean_rec\",'Precision','Recall'], \n",
    "          bbox_to_anchor=(1,1), \n",
    "          title='Pro Argument')"
   ]
  },
  {
   "cell_type": "markdown",
   "id": "bd44545c-6c32-428d-870e-404f1d9aa339",
   "metadata": {},
   "source": [
    "### Preprocessing for joining pro and against class in one plot"
   ]
  },
  {
   "cell_type": "code",
   "execution_count": 22,
   "id": "e80b1a8c-15f7-4178-af11-7bccc6866a18",
   "metadata": {},
   "outputs": [],
   "source": [
    "df_Precision_Recall['Class'] = np.where( ( (df_Precision_Recall.Metric == 'P-') | (df_Precision_Recall.Metric == 'R-') ), 'Against', 'Pro')"
   ]
  },
  {
   "cell_type": "code",
   "execution_count": 23,
   "id": "3eb456ad-7206-4d30-a741-dd302072c6eb",
   "metadata": {},
   "outputs": [],
   "source": [
    "df_Precision_Recall[\"Metric\"] = df_Precision_Recall[\"Metric\"].str.replace('[^a-zA-Z]', '')"
   ]
  },
  {
   "cell_type": "code",
   "execution_count": 24,
   "id": "11b2c97d-3be2-4ac2-a63e-bf2695407eba",
   "metadata": {},
   "outputs": [
    {
     "data": {
      "text/html": [
       "<div>\n",
       "<style scoped>\n",
       "    .dataframe tbody tr th:only-of-type {\n",
       "        vertical-align: middle;\n",
       "    }\n",
       "\n",
       "    .dataframe tbody tr th {\n",
       "        vertical-align: top;\n",
       "    }\n",
       "\n",
       "    .dataframe thead th {\n",
       "        text-align: right;\n",
       "    }\n",
       "</style>\n",
       "<table border=\"1\" class=\"dataframe\">\n",
       "  <thead>\n",
       "    <tr style=\"text-align: right;\">\n",
       "      <th></th>\n",
       "      <th>Seed</th>\n",
       "      <th>Metric</th>\n",
       "      <th>Topic</th>\n",
       "      <th>Value</th>\n",
       "      <th>Class</th>\n",
       "    </tr>\n",
       "  </thead>\n",
       "  <tbody>\n",
       "    <tr>\n",
       "      <th>16</th>\n",
       "      <td>Seed1</td>\n",
       "      <td>P</td>\n",
       "      <td>abortion</td>\n",
       "      <td>41.44</td>\n",
       "      <td>Against</td>\n",
       "    </tr>\n",
       "    <tr>\n",
       "      <th>17</th>\n",
       "      <td>Seed1</td>\n",
       "      <td>P</td>\n",
       "      <td>cloning</td>\n",
       "      <td>57.56</td>\n",
       "      <td>Against</td>\n",
       "    </tr>\n",
       "    <tr>\n",
       "      <th>18</th>\n",
       "      <td>Seed1</td>\n",
       "      <td>P</td>\n",
       "      <td>death penalty</td>\n",
       "      <td>53.70</td>\n",
       "      <td>Against</td>\n",
       "    </tr>\n",
       "    <tr>\n",
       "      <th>19</th>\n",
       "      <td>Seed1</td>\n",
       "      <td>P</td>\n",
       "      <td>gun control</td>\n",
       "      <td>35.37</td>\n",
       "      <td>Against</td>\n",
       "    </tr>\n",
       "    <tr>\n",
       "      <th>20</th>\n",
       "      <td>Seed1</td>\n",
       "      <td>P</td>\n",
       "      <td>marijuana legal</td>\n",
       "      <td>52.17</td>\n",
       "      <td>Against</td>\n",
       "    </tr>\n",
       "    <tr>\n",
       "      <th>...</th>\n",
       "      <td>...</td>\n",
       "      <td>...</td>\n",
       "      <td>...</td>\n",
       "      <td>...</td>\n",
       "      <td>...</td>\n",
       "    </tr>\n",
       "    <tr>\n",
       "      <th>619</th>\n",
       "      <td>Seed10</td>\n",
       "      <td>R</td>\n",
       "      <td>gun control</td>\n",
       "      <td>24.05</td>\n",
       "      <td>Pro</td>\n",
       "    </tr>\n",
       "    <tr>\n",
       "      <th>620</th>\n",
       "      <td>Seed10</td>\n",
       "      <td>R</td>\n",
       "      <td>marijuana legal</td>\n",
       "      <td>44.07</td>\n",
       "      <td>Pro</td>\n",
       "    </tr>\n",
       "    <tr>\n",
       "      <th>621</th>\n",
       "      <td>Seed10</td>\n",
       "      <td>R</td>\n",
       "      <td>minimum wage</td>\n",
       "      <td>64.66</td>\n",
       "      <td>Pro</td>\n",
       "    </tr>\n",
       "    <tr>\n",
       "      <th>622</th>\n",
       "      <td>Seed10</td>\n",
       "      <td>R</td>\n",
       "      <td>nuclear energy</td>\n",
       "      <td>55.74</td>\n",
       "      <td>Pro</td>\n",
       "    </tr>\n",
       "    <tr>\n",
       "      <th>623</th>\n",
       "      <td>Seed10</td>\n",
       "      <td>R</td>\n",
       "      <td>school uniforms</td>\n",
       "      <td>55.96</td>\n",
       "      <td>Pro</td>\n",
       "    </tr>\n",
       "  </tbody>\n",
       "</table>\n",
       "<p>320 rows × 5 columns</p>\n",
       "</div>"
      ],
      "text/plain": [
       "       Seed Metric            Topic  Value    Class\n",
       "16    Seed1      P         abortion  41.44  Against\n",
       "17    Seed1      P          cloning  57.56  Against\n",
       "18    Seed1      P    death penalty  53.70  Against\n",
       "19    Seed1      P      gun control  35.37  Against\n",
       "20    Seed1      P  marijuana legal  52.17  Against\n",
       "..      ...    ...              ...    ...      ...\n",
       "619  Seed10      R      gun control  24.05      Pro\n",
       "620  Seed10      R  marijuana legal  44.07      Pro\n",
       "621  Seed10      R     minimum wage  64.66      Pro\n",
       "622  Seed10      R   nuclear energy  55.74      Pro\n",
       "623  Seed10      R  school uniforms  55.96      Pro\n",
       "\n",
       "[320 rows x 5 columns]"
      ]
     },
     "execution_count": 24,
     "metadata": {},
     "output_type": "execute_result"
    }
   ],
   "source": [
    "df_Precision_Recall"
   ]
  },
  {
   "cell_type": "markdown",
   "id": "14e50115-0797-4ac2-a9fb-08fa6f8e8259",
   "metadata": {},
   "source": [
    "## Plot 4: Pro and Against Class, Precision and Recall, in one figure"
   ]
  },
  {
   "cell_type": "code",
   "execution_count": 25,
   "id": "f28587c9-62c2-4689-9c47-67a3539e96f2",
   "metadata": {},
   "outputs": [
    {
     "data": {
      "text/plain": [
       "<matplotlib.legend.Legend at 0x141f70370>"
      ]
     },
     "execution_count": 25,
     "metadata": {},
     "output_type": "execute_result"
    },
    {
     "data": {
      "image/png": "[encoded data removed]",
      "text/plain": [
       "<Figure size 630x252 with 2 Axes>"
      ]
     },
     "metadata": {},
     "output_type": "display_data"
    }
   ],
   "source": [
    "topics =[\"abortion\", \"cloning\", \"death pen\", \"gun contr\", \"marijuana\", \"min wage\", \"nuclear\", \"school uniforms\"]\n",
    "\n",
    "sn.set_style('ticks')\n",
    "ax = sn.catplot(x=\"Topic\", kind=\"box\", hue=\"Metric\", y=\"Value\", col=\"Class\", ci=\"sd\", legend=False, height=3.5, aspect=1.25, data=df_Precision_Recall.reset_index(),)\n",
    "ax.set(ylim=(0,100))\n",
    "ax1, ax2 = ax.axes[0]\n",
    "ax2.axhline(51.9, ls=\"--\", color=\"red\", label=\"Mean Precision\")\n",
    "ax2.axhline(46,41, ls=\"-\", color=\"blue\", label=\"Mean Recall\")\n",
    "\n",
    "ax1.axhline(53,76, ls=\"--\", color=\"red\", label=\"Mean Precision\")\n",
    "ax1.axhline(58,13, ls=\"-\", color=\"blue\", label=\"Mean Recall\")\n",
    "\n",
    "ax.set_xticklabels(topics, fontsize=7)\n",
    "\n",
    "legend_labels, _= ax2.get_legend_handles_labels()\n",
    "ax2.legend(legend_labels, [ \"mean_prec\", \"mean_rec\",'Precision','Recall'], \n",
    "          bbox_to_anchor=(1,1), \n",
    "          title='legend')"
   ]
  },
  {
   "cell_type": "code",
   "execution_count": 26,
   "id": "0fd102fc-2b5e-4924-97e5-6bd4ee3990ab",
   "metadata": {},
   "outputs": [
    {
     "data": {
      "text/plain": [
       "<matplotlib.legend.Legend at 0x142581250>"
      ]
     },
     "execution_count": 26,
     "metadata": {},
     "output_type": "execute_result"
    },
    {
     "data": {
      "image/png": "[encoded data removed]",
      "text/plain": [
       "<Figure size 630x252 with 2 Axes>"
      ]
     },
     "metadata": {},
     "output_type": "display_data"
    }
   ],
   "source": [
    "topics =[\"abortion\", \"cloning\", \"death pen\", \"gun contr\", \"marijuana\", \"min wage\", \"nuclear\", \"school uniforms\"]\n",
    "\n",
    "sn.set_style('ticks')\n",
    "ax = sn.catplot(x=\"Topic\", kind=\"box\", hue=\"Class\", y=\"Value\", col=\"Metric\", ci=\"sd\", legend=False, height=3.5, aspect=1.25, data=df_Precision_Recall.reset_index(),)\n",
    "ax.set(ylim=(0,100))\n",
    "ax1, ax2 = ax.axes[0]\n",
    "ax2.axhline(51.9, ls=\"--\", color=\"red\", label=\"Mean Precision\")\n",
    "ax2.axhline(46,41, ls=\"-\", color=\"blue\", label=\"Mean Recall\")\n",
    "\n",
    "ax1.axhline(53,76, ls=\"--\", color=\"red\", label=\"Mean Precision\")\n",
    "ax1.axhline(58,13, ls=\"-\", color=\"blue\", label=\"Mean Recall\")\n",
    "\n",
    "ax.set_xticklabels(topics, fontsize=7)\n",
    "\n",
    "legend_labels, _= ax2.get_legend_handles_labels()\n",
    "ax2.legend(legend_labels, [ \"mean_prec\", \"mean_rec\",'Pro','Against'], \n",
    "          bbox_to_anchor=(1,1), \n",
    "          title='legend')"
   ]
  },
  {
   "cell_type": "markdown",
   "id": "0486af21-699d-45fa-9a9b-d8b4b14b472c",
   "metadata": {},
   "source": [
    "## Plot 5: adding no argument class"
   ]
  },
  {
   "cell_type": "code",
   "execution_count": 27,
   "id": "7fc413a7-6853-49b5-9541-24a99abd69bf",
   "metadata": {},
   "outputs": [],
   "source": [
    "df_threeclass = pd.concat([df_Precision_Recall, df_noArg])"
   ]
  },
  {
   "cell_type": "code",
   "execution_count": 28,
   "id": "f5c7c0bf-fd77-4547-a19a-4460a1bf95ef",
   "metadata": {},
   "outputs": [],
   "source": [
    "df_threeclass[\"Metric\"] = df_threeclass[\"Metric\"].str.replace(\"no arg\", \"\")\n",
    "df_threeclass[\"Metric\"] = df_threeclass[\"Metric\"].str.replace(\" \", \"\")"
   ]
  },
  {
   "cell_type": "code",
   "execution_count": 29,
   "id": "c6c40f00-3ead-4d43-909c-f07d8f923c15",
   "metadata": {},
   "outputs": [
    {
     "data": {
      "text/plain": [
       "<matplotlib.legend.Legend at 0x142a591c0>"
      ]
     },
     "execution_count": 29,
     "metadata": {},
     "output_type": "execute_result"
    },
    {
     "data": {
      "image/png": "[encoded data removed]",
      "text/plain": [
       "<Figure size 630x252 with 2 Axes>"
      ]
     },
     "metadata": {},
     "output_type": "display_data"
    }
   ],
   "source": [
    "topics =[\"abortion\", \"cloning\", \"death pen\", \"gun contr\", \"marijuana\", \"min wage\", \"nuclear\", \"school uniforms\"]\n",
    "\n",
    "sn.set_style('ticks')\n",
    "ax = sn.catplot(x=\"Topic\", kind=\"box\", hue=\"Class\", y=\"Value\", col=\"Metric\", ci=\"sd\", legend=False, height=3.5, aspect=1.25, data=df_threeclass,)\n",
    "ax.set(ylim=(0,100))\n",
    "ax1, ax2 = ax.axes[0]\n",
    "# ax2.axhline(51.9, ls=\"--\", color=\"red\", label=\"Mean Precision\")\n",
    "# ax2.axhline(46,41, ls=\"-\", color=\"blue\", label=\"Mean Recall\")\n",
    "\n",
    "# ax1.axhline(53,76, ls=\"--\", color=\"red\", label=\"Mean Precision\")\n",
    "# ax1.axhline(58,13, ls=\"-\", color=\"blue\", label=\"Mean Recall\")\n",
    "ax1.set_title(\"Precision\")\n",
    "ax2.set_title(\"Recall\")\n",
    "\n",
    "ax.set_xticklabels(topics, fontsize=7)\n",
    "\n",
    "legend_labels, _= ax2.get_legend_handles_labels()\n",
    "ax2.legend(legend_labels, [ \"Against\", \"Pro\",'No Argument'], \n",
    "          bbox_to_anchor=(1,1), \n",
    "          title='legend')"
   ]
  },
  {
   "cell_type": "markdown",
   "id": "42146764-e159-4a26-90b3-a0553f78fb6d",
   "metadata": {},
   "source": [
    "### in-class F1"
   ]
  },
  {
   "cell_type": "code",
   "execution_count": 30,
   "id": "89b0d182-99b1-4f32-a53e-4743928e8e79",
   "metadata": {},
   "outputs": [],
   "source": [
    "df_threeclass = df_threeclass.set_index(['Topic', 'Seed', 'Class'])"
   ]
  },
  {
   "cell_type": "code",
   "execution_count": 31,
   "id": "1be17e78-4f5c-4ff8-bf02-bb509e475d23",
   "metadata": {},
   "outputs": [],
   "source": [
    "from scipy.stats.mstats import hmean\n",
    "df_threeclass[\"mean_class\"] = df_threeclass.groupby(['Topic', 'Seed', 'Class'])[\"Value\"].apply(hmean)"
   ]
  },
  {
   "cell_type": "code",
   "execution_count": 32,
   "id": "552916db-038a-40e4-bd56-1f4b20465979",
   "metadata": {},
   "outputs": [],
   "source": [
    "df_Precision_Recall = df_Precision_Recall.set_index(['Topic', 'Seed', 'Class'])"
   ]
  },
  {
   "cell_type": "code",
   "execution_count": 33,
   "id": "1580e1cc-9af6-492b-82f6-0ba0d1e60be0",
   "metadata": {},
   "outputs": [],
   "source": [
    "from scipy.stats.mstats import hmean\n",
    "df_Precision_Recall[\"mean_class\"] = df_Precision_Recall.groupby(['Topic', 'Seed', 'Class'])[\"Value\"].apply(hmean)"
   ]
  },
  {
   "cell_type": "code",
   "execution_count": 34,
   "id": "1b8a9af6-ab3f-4017-948a-e68c4992546c",
   "metadata": {},
   "outputs": [
    {
     "data": {
      "text/html": [
       "<div>\n",
       "<style scoped>\n",
       "    .dataframe tbody tr th:only-of-type {\n",
       "        vertical-align: middle;\n",
       "    }\n",
       "\n",
       "    .dataframe tbody tr th {\n",
       "        vertical-align: top;\n",
       "    }\n",
       "\n",
       "    .dataframe thead th {\n",
       "        text-align: right;\n",
       "    }\n",
       "</style>\n",
       "<table border=\"1\" class=\"dataframe\">\n",
       "  <thead>\n",
       "    <tr style=\"text-align: right;\">\n",
       "      <th></th>\n",
       "      <th>Topic</th>\n",
       "      <th>Seed</th>\n",
       "      <th>Class</th>\n",
       "      <th>Metric</th>\n",
       "      <th>Value</th>\n",
       "      <th>mean_class</th>\n",
       "    </tr>\n",
       "  </thead>\n",
       "  <tbody>\n",
       "    <tr>\n",
       "      <th>0</th>\n",
       "      <td>abortion</td>\n",
       "      <td>Seed1</td>\n",
       "      <td>Against</td>\n",
       "      <td>P</td>\n",
       "      <td>41.44</td>\n",
       "      <td>43.352469</td>\n",
       "    </tr>\n",
       "    <tr>\n",
       "      <th>1</th>\n",
       "      <td>cloning</td>\n",
       "      <td>Seed1</td>\n",
       "      <td>Against</td>\n",
       "      <td>P</td>\n",
       "      <td>57.56</td>\n",
       "      <td>67.486421</td>\n",
       "    </tr>\n",
       "    <tr>\n",
       "      <th>2</th>\n",
       "      <td>death penalty</td>\n",
       "      <td>Seed1</td>\n",
       "      <td>Against</td>\n",
       "      <td>P</td>\n",
       "      <td>53.70</td>\n",
       "      <td>57.766781</td>\n",
       "    </tr>\n",
       "    <tr>\n",
       "      <th>3</th>\n",
       "      <td>gun control</td>\n",
       "      <td>Seed1</td>\n",
       "      <td>Against</td>\n",
       "      <td>P</td>\n",
       "      <td>35.37</td>\n",
       "      <td>44.749829</td>\n",
       "    </tr>\n",
       "    <tr>\n",
       "      <th>4</th>\n",
       "      <td>marijuana legal</td>\n",
       "      <td>Seed1</td>\n",
       "      <td>Against</td>\n",
       "      <td>P</td>\n",
       "      <td>52.17</td>\n",
       "      <td>49.791270</td>\n",
       "    </tr>\n",
       "    <tr>\n",
       "      <th>...</th>\n",
       "      <td>...</td>\n",
       "      <td>...</td>\n",
       "      <td>...</td>\n",
       "      <td>...</td>\n",
       "      <td>...</td>\n",
       "      <td>...</td>\n",
       "    </tr>\n",
       "    <tr>\n",
       "      <th>315</th>\n",
       "      <td>gun control</td>\n",
       "      <td>Seed10</td>\n",
       "      <td>Pro</td>\n",
       "      <td>R</td>\n",
       "      <td>24.05</td>\n",
       "      <td>31.276193</td>\n",
       "    </tr>\n",
       "    <tr>\n",
       "      <th>316</th>\n",
       "      <td>marijuana legal</td>\n",
       "      <td>Seed10</td>\n",
       "      <td>Pro</td>\n",
       "      <td>R</td>\n",
       "      <td>44.07</td>\n",
       "      <td>47.707713</td>\n",
       "    </tr>\n",
       "    <tr>\n",
       "      <th>317</th>\n",
       "      <td>minimum wage</td>\n",
       "      <td>Seed10</td>\n",
       "      <td>Pro</td>\n",
       "      <td>R</td>\n",
       "      <td>64.66</td>\n",
       "      <td>60.487014</td>\n",
       "    </tr>\n",
       "    <tr>\n",
       "      <th>318</th>\n",
       "      <td>nuclear energy</td>\n",
       "      <td>Seed10</td>\n",
       "      <td>Pro</td>\n",
       "      <td>R</td>\n",
       "      <td>55.74</td>\n",
       "      <td>51.908576</td>\n",
       "    </tr>\n",
       "    <tr>\n",
       "      <th>319</th>\n",
       "      <td>school uniforms</td>\n",
       "      <td>Seed10</td>\n",
       "      <td>Pro</td>\n",
       "      <td>R</td>\n",
       "      <td>55.96</td>\n",
       "      <td>57.273432</td>\n",
       "    </tr>\n",
       "  </tbody>\n",
       "</table>\n",
       "<p>320 rows × 6 columns</p>\n",
       "</div>"
      ],
      "text/plain": [
       "               Topic    Seed    Class Metric  Value  mean_class\n",
       "0           abortion   Seed1  Against      P  41.44   43.352469\n",
       "1            cloning   Seed1  Against      P  57.56   67.486421\n",
       "2      death penalty   Seed1  Against      P  53.70   57.766781\n",
       "3        gun control   Seed1  Against      P  35.37   44.749829\n",
       "4    marijuana legal   Seed1  Against      P  52.17   49.791270\n",
       "..               ...     ...      ...    ...    ...         ...\n",
       "315      gun control  Seed10      Pro      R  24.05   31.276193\n",
       "316  marijuana legal  Seed10      Pro      R  44.07   47.707713\n",
       "317     minimum wage  Seed10      Pro      R  64.66   60.487014\n",
       "318   nuclear energy  Seed10      Pro      R  55.74   51.908576\n",
       "319  school uniforms  Seed10      Pro      R  55.96   57.273432\n",
       "\n",
       "[320 rows x 6 columns]"
      ]
     },
     "execution_count": 34,
     "metadata": {},
     "output_type": "execute_result"
    }
   ],
   "source": [
    "df_Precision_Recall.reset_index()"
   ]
  },
  {
   "cell_type": "code",
   "execution_count": 35,
   "id": "cd31cab8-cea9-4aaf-8a0c-5fb54546d800",
   "metadata": {},
   "outputs": [
    {
     "data": {
      "text/html": [
       "<div>\n",
       "<style scoped>\n",
       "    .dataframe tbody tr th:only-of-type {\n",
       "        vertical-align: middle;\n",
       "    }\n",
       "\n",
       "    .dataframe tbody tr th {\n",
       "        vertical-align: top;\n",
       "    }\n",
       "\n",
       "    .dataframe thead th {\n",
       "        text-align: right;\n",
       "    }\n",
       "</style>\n",
       "<table border=\"1\" class=\"dataframe\">\n",
       "  <thead>\n",
       "    <tr style=\"text-align: right;\">\n",
       "      <th></th>\n",
       "      <th></th>\n",
       "      <th></th>\n",
       "      <th>Metric</th>\n",
       "      <th>Value</th>\n",
       "      <th>mean_class</th>\n",
       "    </tr>\n",
       "    <tr>\n",
       "      <th>Topic</th>\n",
       "      <th>Seed</th>\n",
       "      <th>Class</th>\n",
       "      <th></th>\n",
       "      <th></th>\n",
       "      <th></th>\n",
       "    </tr>\n",
       "  </thead>\n",
       "  <tbody>\n",
       "    <tr>\n",
       "      <th>abortion</th>\n",
       "      <th>Seed1</th>\n",
       "      <th>Against</th>\n",
       "      <td>P</td>\n",
       "      <td>41.44</td>\n",
       "      <td>43.352469</td>\n",
       "    </tr>\n",
       "    <tr>\n",
       "      <th>cloning</th>\n",
       "      <th>Seed1</th>\n",
       "      <th>Against</th>\n",
       "      <td>P</td>\n",
       "      <td>57.56</td>\n",
       "      <td>67.486421</td>\n",
       "    </tr>\n",
       "    <tr>\n",
       "      <th>death penalty</th>\n",
       "      <th>Seed1</th>\n",
       "      <th>Against</th>\n",
       "      <td>P</td>\n",
       "      <td>53.70</td>\n",
       "      <td>57.766781</td>\n",
       "    </tr>\n",
       "    <tr>\n",
       "      <th>gun control</th>\n",
       "      <th>Seed1</th>\n",
       "      <th>Against</th>\n",
       "      <td>P</td>\n",
       "      <td>35.37</td>\n",
       "      <td>44.749829</td>\n",
       "    </tr>\n",
       "    <tr>\n",
       "      <th>marijuana legal</th>\n",
       "      <th>Seed1</th>\n",
       "      <th>Against</th>\n",
       "      <td>P</td>\n",
       "      <td>52.17</td>\n",
       "      <td>49.791270</td>\n",
       "    </tr>\n",
       "    <tr>\n",
       "      <th>...</th>\n",
       "      <th>...</th>\n",
       "      <th>...</th>\n",
       "      <td>...</td>\n",
       "      <td>...</td>\n",
       "      <td>...</td>\n",
       "    </tr>\n",
       "    <tr>\n",
       "      <th>gun control</th>\n",
       "      <th>Seed10</th>\n",
       "      <th>NoArgument</th>\n",
       "      <td>R</td>\n",
       "      <td>79.63</td>\n",
       "      <td>81.241705</td>\n",
       "    </tr>\n",
       "    <tr>\n",
       "      <th>marijuana legal</th>\n",
       "      <th>Seed10</th>\n",
       "      <th>NoArgument</th>\n",
       "      <td>R</td>\n",
       "      <td>91.30</td>\n",
       "      <td>84.307564</td>\n",
       "    </tr>\n",
       "    <tr>\n",
       "      <th>minimum wage</th>\n",
       "      <th>Seed10</th>\n",
       "      <th>NoArgument</th>\n",
       "      <td>R</td>\n",
       "      <td>82.96</td>\n",
       "      <td>85.169541</td>\n",
       "    </tr>\n",
       "    <tr>\n",
       "      <th>nuclear energy</th>\n",
       "      <th>Seed10</th>\n",
       "      <th>NoArgument</th>\n",
       "      <td>R</td>\n",
       "      <td>80.90</td>\n",
       "      <td>82.555418</td>\n",
       "    </tr>\n",
       "    <tr>\n",
       "      <th>school uniforms</th>\n",
       "      <th>Seed10</th>\n",
       "      <th>NoArgument</th>\n",
       "      <td>R</td>\n",
       "      <td>92.22</td>\n",
       "      <td>85.221329</td>\n",
       "    </tr>\n",
       "  </tbody>\n",
       "</table>\n",
       "<p>480 rows × 3 columns</p>\n",
       "</div>"
      ],
      "text/plain": [
       "                                  Metric  Value  mean_class\n",
       "Topic           Seed   Class                               \n",
       "abortion        Seed1  Against         P  41.44   43.352469\n",
       "cloning         Seed1  Against         P  57.56   67.486421\n",
       "death penalty   Seed1  Against         P  53.70   57.766781\n",
       "gun control     Seed1  Against         P  35.37   44.749829\n",
       "marijuana legal Seed1  Against         P  52.17   49.791270\n",
       "...                                  ...    ...         ...\n",
       "gun control     Seed10 NoArgument      R  79.63   81.241705\n",
       "marijuana legal Seed10 NoArgument      R  91.30   84.307564\n",
       "minimum wage    Seed10 NoArgument      R  82.96   85.169541\n",
       "nuclear energy  Seed10 NoArgument      R  80.90   82.555418\n",
       "school uniforms Seed10 NoArgument      R  92.22   85.221329\n",
       "\n",
       "[480 rows x 3 columns]"
      ]
     },
     "execution_count": 35,
     "metadata": {},
     "output_type": "execute_result"
    }
   ],
   "source": [
    "df_threeclass"
   ]
  },
  {
   "cell_type": "code",
   "execution_count": 58,
   "id": "e26a9a28-39aa-41f8-a982-4e4b9c888976",
   "metadata": {},
   "outputs": [],
   "source": [
    "# plt.figure(figsize=(10, 8))\n",
    "# topics =[\"abortion\", \"cloning\", \"death pen\", \"gun contr\", \"marijuana\", \"min wage\", \"nuclear\", \"school uniforms\"]\n",
    "\n",
    "# sn.set_style('ticks')\n",
    "# ax = sn.catplot(x=\"Topic\", kind=\"box\", hue=\"Class\", y=\"mean_class\", ci=\"sd\", height=15, aspect=3, data=df_threeclass.reset_index(),)\n",
    "# ax.set(ylim=(0,100))\n",
    "# # ax1, ax2 = ax.axes[0]\n",
    "# # # ax2.axhline(51.9, ls=\"--\", color=\"red\", label=\"Mean Precision\")\n",
    "# # # ax2.axhline(46,41, ls=\"-\", color=\"blue\", label=\"Mean Recall\")\n",
    "\n",
    "# # # ax1.axhline(53,76, ls=\"--\", color=\"red\", label=\"Mean Precision\")\n",
    "# # # ax1.axhline(58,13, ls=\"-\", color=\"blue\", label=\"Mean Recall\")\n",
    "# # ax1.set_title(\"Precision\")\n",
    "# # ax2.set_title(\"Recall\")\n",
    "# plt.tick_params(axis='x', which='major')\n",
    "# ax.set_xticklabels(topics, fontsize=7)\n",
    "# plt.ylabel('In-class F1', fontsize=11)\n",
    "# plt.xlabel('Topics', fontsize=11)\n",
    "# # legend_labels, _= ax.get_legend_handles_labels()\n",
    "# # ax.legend([ \"Against\", \"Pro\",'No Argument'], \n",
    "# #           bbox_to_anchor=(1,1), \n",
    "# #           title='legend')"
   ]
  },
  {
   "cell_type": "code",
   "execution_count": 70,
   "id": "91fcd4c3-948a-4dd8-b509-13c70a096167",
   "metadata": {},
   "outputs": [],
   "source": [
    "df_current_F1[\"Class\"] = \"All\""
   ]
  },
  {
   "cell_type": "code",
   "execution_count": 91,
   "id": "ee685bee-4150-4387-9eb9-46412367e476",
   "metadata": {},
   "outputs": [],
   "source": [
    "df_current_F1[\"mean_class\"] = df_current_F1[\"Value\"] * 100"
   ]
  },
  {
   "cell_type": "code",
   "execution_count": 92,
   "id": "3c89a105-56a1-4d41-9c05-9323c2d72547",
   "metadata": {},
   "outputs": [
    {
     "data": {
      "text/html": [
       "<div>\n",
       "<style scoped>\n",
       "    .dataframe tbody tr th:only-of-type {\n",
       "        vertical-align: middle;\n",
       "    }\n",
       "\n",
       "    .dataframe tbody tr th {\n",
       "        vertical-align: top;\n",
       "    }\n",
       "\n",
       "    .dataframe thead th {\n",
       "        text-align: right;\n",
       "    }\n",
       "</style>\n",
       "<table border=\"1\" class=\"dataframe\">\n",
       "  <thead>\n",
       "    <tr style=\"text-align: right;\">\n",
       "      <th></th>\n",
       "      <th>Seed</th>\n",
       "      <th>Metric</th>\n",
       "      <th>Topic</th>\n",
       "      <th>Value</th>\n",
       "      <th>Class</th>\n",
       "      <th>mean_value</th>\n",
       "      <th>mean_class</th>\n",
       "    </tr>\n",
       "  </thead>\n",
       "  <tbody>\n",
       "    <tr>\n",
       "      <th>0</th>\n",
       "      <td>Seed1</td>\n",
       "      <td>F1-avg (macroweigh)</td>\n",
       "      <td>abortion</td>\n",
       "      <td>0.5320</td>\n",
       "      <td>All</td>\n",
       "      <td>0.5320</td>\n",
       "      <td>53.20</td>\n",
       "    </tr>\n",
       "    <tr>\n",
       "      <th>1</th>\n",
       "      <td>Seed1</td>\n",
       "      <td>F1-avg (macroweigh)</td>\n",
       "      <td>cloning</td>\n",
       "      <td>0.7067</td>\n",
       "      <td>All</td>\n",
       "      <td>0.7067</td>\n",
       "      <td>70.67</td>\n",
       "    </tr>\n",
       "    <tr>\n",
       "      <th>2</th>\n",
       "      <td>Seed1</td>\n",
       "      <td>F1-avg (macroweigh)</td>\n",
       "      <td>death penalty</td>\n",
       "      <td>0.5712</td>\n",
       "      <td>All</td>\n",
       "      <td>0.5712</td>\n",
       "      <td>57.12</td>\n",
       "    </tr>\n",
       "    <tr>\n",
       "      <th>3</th>\n",
       "      <td>Seed1</td>\n",
       "      <td>F1-avg (macroweigh)</td>\n",
       "      <td>gun control</td>\n",
       "      <td>0.5380</td>\n",
       "      <td>All</td>\n",
       "      <td>0.5380</td>\n",
       "      <td>53.80</td>\n",
       "    </tr>\n",
       "    <tr>\n",
       "      <th>4</th>\n",
       "      <td>Seed1</td>\n",
       "      <td>F1-avg (macroweigh)</td>\n",
       "      <td>marijuana legal</td>\n",
       "      <td>0.6002</td>\n",
       "      <td>All</td>\n",
       "      <td>0.6002</td>\n",
       "      <td>60.02</td>\n",
       "    </tr>\n",
       "    <tr>\n",
       "      <th>...</th>\n",
       "      <td>...</td>\n",
       "      <td>...</td>\n",
       "      <td>...</td>\n",
       "      <td>...</td>\n",
       "      <td>...</td>\n",
       "      <td>...</td>\n",
       "      <td>...</td>\n",
       "    </tr>\n",
       "    <tr>\n",
       "      <th>579</th>\n",
       "      <td>Seed10</td>\n",
       "      <td>F1-avg (macroweigh)</td>\n",
       "      <td>gun control</td>\n",
       "      <td>0.5182</td>\n",
       "      <td>All</td>\n",
       "      <td>0.5182</td>\n",
       "      <td>51.82</td>\n",
       "    </tr>\n",
       "    <tr>\n",
       "      <th>580</th>\n",
       "      <td>Seed10</td>\n",
       "      <td>F1-avg (macroweigh)</td>\n",
       "      <td>marijuana legal</td>\n",
       "      <td>0.6184</td>\n",
       "      <td>All</td>\n",
       "      <td>0.6184</td>\n",
       "      <td>61.84</td>\n",
       "    </tr>\n",
       "    <tr>\n",
       "      <th>581</th>\n",
       "      <td>Seed10</td>\n",
       "      <td>F1-avg (macroweigh)</td>\n",
       "      <td>minimum wage</td>\n",
       "      <td>0.6764</td>\n",
       "      <td>All</td>\n",
       "      <td>0.6764</td>\n",
       "      <td>67.64</td>\n",
       "    </tr>\n",
       "    <tr>\n",
       "      <th>582</th>\n",
       "      <td>Seed10</td>\n",
       "      <td>F1-avg (macroweigh)</td>\n",
       "      <td>nuclear energy</td>\n",
       "      <td>0.6476</td>\n",
       "      <td>All</td>\n",
       "      <td>0.6476</td>\n",
       "      <td>64.76</td>\n",
       "    </tr>\n",
       "    <tr>\n",
       "      <th>583</th>\n",
       "      <td>Seed10</td>\n",
       "      <td>F1-avg (macroweigh)</td>\n",
       "      <td>school uniforms</td>\n",
       "      <td>0.6611</td>\n",
       "      <td>All</td>\n",
       "      <td>0.6611</td>\n",
       "      <td>66.11</td>\n",
       "    </tr>\n",
       "  </tbody>\n",
       "</table>\n",
       "<p>80 rows × 7 columns</p>\n",
       "</div>"
      ],
      "text/plain": [
       "       Seed               Metric            Topic   Value Class  mean_value  \\\n",
       "0     Seed1  F1-avg (macroweigh)         abortion  0.5320   All      0.5320   \n",
       "1     Seed1  F1-avg (macroweigh)          cloning  0.7067   All      0.7067   \n",
       "2     Seed1  F1-avg (macroweigh)    death penalty  0.5712   All      0.5712   \n",
       "3     Seed1  F1-avg (macroweigh)      gun control  0.5380   All      0.5380   \n",
       "4     Seed1  F1-avg (macroweigh)  marijuana legal  0.6002   All      0.6002   \n",
       "..      ...                  ...              ...     ...   ...         ...   \n",
       "579  Seed10  F1-avg (macroweigh)      gun control  0.5182   All      0.5182   \n",
       "580  Seed10  F1-avg (macroweigh)  marijuana legal  0.6184   All      0.6184   \n",
       "581  Seed10  F1-avg (macroweigh)     minimum wage  0.6764   All      0.6764   \n",
       "582  Seed10  F1-avg (macroweigh)   nuclear energy  0.6476   All      0.6476   \n",
       "583  Seed10  F1-avg (macroweigh)  school uniforms  0.6611   All      0.6611   \n",
       "\n",
       "     mean_class  \n",
       "0         53.20  \n",
       "1         70.67  \n",
       "2         57.12  \n",
       "3         53.80  \n",
       "4         60.02  \n",
       "..          ...  \n",
       "579       51.82  \n",
       "580       61.84  \n",
       "581       67.64  \n",
       "582       64.76  \n",
       "583       66.11  \n",
       "\n",
       "[80 rows x 7 columns]"
      ]
     },
     "execution_count": 92,
     "metadata": {},
     "output_type": "execute_result"
    }
   ],
   "source": [
    "df_current_F1"
   ]
  },
  {
   "cell_type": "code",
   "execution_count": 93,
   "id": "d30772d7-f57f-4976-a2d2-40783d90bb0a",
   "metadata": {},
   "outputs": [],
   "source": [
    "df_threeclass = df_threeclass.reset_index()"
   ]
  },
  {
   "cell_type": "code",
   "execution_count": 94,
   "id": "17b3252e-3c1d-498b-9a0f-3f78fc0c4586",
   "metadata": {},
   "outputs": [
    {
     "data": {
      "text/html": [
       "<div>\n",
       "<style scoped>\n",
       "    .dataframe tbody tr th:only-of-type {\n",
       "        vertical-align: middle;\n",
       "    }\n",
       "\n",
       "    .dataframe tbody tr th {\n",
       "        vertical-align: top;\n",
       "    }\n",
       "\n",
       "    .dataframe thead th {\n",
       "        text-align: right;\n",
       "    }\n",
       "</style>\n",
       "<table border=\"1\" class=\"dataframe\">\n",
       "  <thead>\n",
       "    <tr style=\"text-align: right;\">\n",
       "      <th></th>\n",
       "      <th>level_0</th>\n",
       "      <th>index</th>\n",
       "      <th>Topic</th>\n",
       "      <th>Seed</th>\n",
       "      <th>Class</th>\n",
       "      <th>Metric</th>\n",
       "      <th>Value</th>\n",
       "      <th>mean_class</th>\n",
       "    </tr>\n",
       "  </thead>\n",
       "  <tbody>\n",
       "    <tr>\n",
       "      <th>0</th>\n",
       "      <td>0</td>\n",
       "      <td>0</td>\n",
       "      <td>abortion</td>\n",
       "      <td>Seed1</td>\n",
       "      <td>Against</td>\n",
       "      <td>P</td>\n",
       "      <td>41.44</td>\n",
       "      <td>43.352469</td>\n",
       "    </tr>\n",
       "    <tr>\n",
       "      <th>1</th>\n",
       "      <td>1</td>\n",
       "      <td>1</td>\n",
       "      <td>cloning</td>\n",
       "      <td>Seed1</td>\n",
       "      <td>Against</td>\n",
       "      <td>P</td>\n",
       "      <td>57.56</td>\n",
       "      <td>67.486421</td>\n",
       "    </tr>\n",
       "    <tr>\n",
       "      <th>2</th>\n",
       "      <td>2</td>\n",
       "      <td>2</td>\n",
       "      <td>death penalty</td>\n",
       "      <td>Seed1</td>\n",
       "      <td>Against</td>\n",
       "      <td>P</td>\n",
       "      <td>53.70</td>\n",
       "      <td>57.766781</td>\n",
       "    </tr>\n",
       "    <tr>\n",
       "      <th>3</th>\n",
       "      <td>3</td>\n",
       "      <td>3</td>\n",
       "      <td>gun control</td>\n",
       "      <td>Seed1</td>\n",
       "      <td>Against</td>\n",
       "      <td>P</td>\n",
       "      <td>35.37</td>\n",
       "      <td>44.749829</td>\n",
       "    </tr>\n",
       "    <tr>\n",
       "      <th>4</th>\n",
       "      <td>4</td>\n",
       "      <td>4</td>\n",
       "      <td>marijuana legal</td>\n",
       "      <td>Seed1</td>\n",
       "      <td>Against</td>\n",
       "      <td>P</td>\n",
       "      <td>52.17</td>\n",
       "      <td>49.791270</td>\n",
       "    </tr>\n",
       "    <tr>\n",
       "      <th>...</th>\n",
       "      <td>...</td>\n",
       "      <td>...</td>\n",
       "      <td>...</td>\n",
       "      <td>...</td>\n",
       "      <td>...</td>\n",
       "      <td>...</td>\n",
       "      <td>...</td>\n",
       "      <td>...</td>\n",
       "    </tr>\n",
       "    <tr>\n",
       "      <th>475</th>\n",
       "      <td>475</td>\n",
       "      <td>475</td>\n",
       "      <td>gun control</td>\n",
       "      <td>Seed10</td>\n",
       "      <td>NoArgument</td>\n",
       "      <td>R</td>\n",
       "      <td>79.63</td>\n",
       "      <td>81.241705</td>\n",
       "    </tr>\n",
       "    <tr>\n",
       "      <th>476</th>\n",
       "      <td>476</td>\n",
       "      <td>476</td>\n",
       "      <td>marijuana legal</td>\n",
       "      <td>Seed10</td>\n",
       "      <td>NoArgument</td>\n",
       "      <td>R</td>\n",
       "      <td>91.30</td>\n",
       "      <td>84.307564</td>\n",
       "    </tr>\n",
       "    <tr>\n",
       "      <th>477</th>\n",
       "      <td>477</td>\n",
       "      <td>477</td>\n",
       "      <td>minimum wage</td>\n",
       "      <td>Seed10</td>\n",
       "      <td>NoArgument</td>\n",
       "      <td>R</td>\n",
       "      <td>82.96</td>\n",
       "      <td>85.169541</td>\n",
       "    </tr>\n",
       "    <tr>\n",
       "      <th>478</th>\n",
       "      <td>478</td>\n",
       "      <td>478</td>\n",
       "      <td>nuclear energy</td>\n",
       "      <td>Seed10</td>\n",
       "      <td>NoArgument</td>\n",
       "      <td>R</td>\n",
       "      <td>80.90</td>\n",
       "      <td>82.555418</td>\n",
       "    </tr>\n",
       "    <tr>\n",
       "      <th>479</th>\n",
       "      <td>479</td>\n",
       "      <td>479</td>\n",
       "      <td>school uniforms</td>\n",
       "      <td>Seed10</td>\n",
       "      <td>NoArgument</td>\n",
       "      <td>R</td>\n",
       "      <td>92.22</td>\n",
       "      <td>85.221329</td>\n",
       "    </tr>\n",
       "  </tbody>\n",
       "</table>\n",
       "<p>480 rows × 8 columns</p>\n",
       "</div>"
      ],
      "text/plain": [
       "     level_0  index            Topic    Seed       Class Metric  Value  \\\n",
       "0          0      0         abortion   Seed1     Against      P  41.44   \n",
       "1          1      1          cloning   Seed1     Against      P  57.56   \n",
       "2          2      2    death penalty   Seed1     Against      P  53.70   \n",
       "3          3      3      gun control   Seed1     Against      P  35.37   \n",
       "4          4      4  marijuana legal   Seed1     Against      P  52.17   \n",
       "..       ...    ...              ...     ...         ...    ...    ...   \n",
       "475      475    475      gun control  Seed10  NoArgument      R  79.63   \n",
       "476      476    476  marijuana legal  Seed10  NoArgument      R  91.30   \n",
       "477      477    477     minimum wage  Seed10  NoArgument      R  82.96   \n",
       "478      478    478   nuclear energy  Seed10  NoArgument      R  80.90   \n",
       "479      479    479  school uniforms  Seed10  NoArgument      R  92.22   \n",
       "\n",
       "     mean_class  \n",
       "0     43.352469  \n",
       "1     67.486421  \n",
       "2     57.766781  \n",
       "3     44.749829  \n",
       "4     49.791270  \n",
       "..          ...  \n",
       "475   81.241705  \n",
       "476   84.307564  \n",
       "477   85.169541  \n",
       "478   82.555418  \n",
       "479   85.221329  \n",
       "\n",
       "[480 rows x 8 columns]"
      ]
     },
     "execution_count": 94,
     "metadata": {},
     "output_type": "execute_result"
    }
   ],
   "source": [
    "df_threeclass"
   ]
  },
  {
   "cell_type": "code",
   "execution_count": 95,
   "id": "e28a6b2a-b35b-45e4-af87-6153fe15bb70",
   "metadata": {},
   "outputs": [],
   "source": [
    "df_fourclass = pd.concat([df_threeclass, df_current_F1])"
   ]
  },
  {
   "cell_type": "code",
   "execution_count": 96,
   "id": "cd04c2e2-c778-4165-8d7e-9c0de87b8919",
   "metadata": {},
   "outputs": [
    {
     "data": {
      "text/plain": [
       "NoArgument    160\n",
       "Against       160\n",
       "Pro           160\n",
       "All            80\n",
       "Name: Class, dtype: int64"
      ]
     },
     "execution_count": 96,
     "metadata": {},
     "output_type": "execute_result"
    }
   ],
   "source": [
    "df_fourclass[\"Class\"].value_counts()"
   ]
  },
  {
   "cell_type": "code",
   "execution_count": 98,
   "id": "be510e42-8c30-4663-a4b6-317f98aea765",
   "metadata": {},
   "outputs": [
    {
     "data": {
      "text/html": [
       "<div>\n",
       "<style scoped>\n",
       "    .dataframe tbody tr th:only-of-type {\n",
       "        vertical-align: middle;\n",
       "    }\n",
       "\n",
       "    .dataframe tbody tr th {\n",
       "        vertical-align: top;\n",
       "    }\n",
       "\n",
       "    .dataframe thead th {\n",
       "        text-align: right;\n",
       "    }\n",
       "</style>\n",
       "<table border=\"1\" class=\"dataframe\">\n",
       "  <thead>\n",
       "    <tr style=\"text-align: right;\">\n",
       "      <th></th>\n",
       "      <th>level_0</th>\n",
       "      <th>index</th>\n",
       "      <th>Topic</th>\n",
       "      <th>Seed</th>\n",
       "      <th>Class</th>\n",
       "      <th>Metric</th>\n",
       "      <th>Value</th>\n",
       "      <th>mean_class</th>\n",
       "      <th>mean_value</th>\n",
       "    </tr>\n",
       "  </thead>\n",
       "  <tbody>\n",
       "    <tr>\n",
       "      <th>0</th>\n",
       "      <td>0.0</td>\n",
       "      <td>0.0</td>\n",
       "      <td>abortion</td>\n",
       "      <td>Seed1</td>\n",
       "      <td>Against</td>\n",
       "      <td>P</td>\n",
       "      <td>41.4400</td>\n",
       "      <td>43.352469</td>\n",
       "      <td>NaN</td>\n",
       "    </tr>\n",
       "    <tr>\n",
       "      <th>1</th>\n",
       "      <td>1.0</td>\n",
       "      <td>1.0</td>\n",
       "      <td>cloning</td>\n",
       "      <td>Seed1</td>\n",
       "      <td>Against</td>\n",
       "      <td>P</td>\n",
       "      <td>57.5600</td>\n",
       "      <td>67.486421</td>\n",
       "      <td>NaN</td>\n",
       "    </tr>\n",
       "    <tr>\n",
       "      <th>2</th>\n",
       "      <td>2.0</td>\n",
       "      <td>2.0</td>\n",
       "      <td>death penalty</td>\n",
       "      <td>Seed1</td>\n",
       "      <td>Against</td>\n",
       "      <td>P</td>\n",
       "      <td>53.7000</td>\n",
       "      <td>57.766781</td>\n",
       "      <td>NaN</td>\n",
       "    </tr>\n",
       "    <tr>\n",
       "      <th>3</th>\n",
       "      <td>3.0</td>\n",
       "      <td>3.0</td>\n",
       "      <td>gun control</td>\n",
       "      <td>Seed1</td>\n",
       "      <td>Against</td>\n",
       "      <td>P</td>\n",
       "      <td>35.3700</td>\n",
       "      <td>44.749829</td>\n",
       "      <td>NaN</td>\n",
       "    </tr>\n",
       "    <tr>\n",
       "      <th>4</th>\n",
       "      <td>4.0</td>\n",
       "      <td>4.0</td>\n",
       "      <td>marijuana legal</td>\n",
       "      <td>Seed1</td>\n",
       "      <td>Against</td>\n",
       "      <td>P</td>\n",
       "      <td>52.1700</td>\n",
       "      <td>49.791270</td>\n",
       "      <td>NaN</td>\n",
       "    </tr>\n",
       "    <tr>\n",
       "      <th>...</th>\n",
       "      <td>...</td>\n",
       "      <td>...</td>\n",
       "      <td>...</td>\n",
       "      <td>...</td>\n",
       "      <td>...</td>\n",
       "      <td>...</td>\n",
       "      <td>...</td>\n",
       "      <td>...</td>\n",
       "      <td>...</td>\n",
       "    </tr>\n",
       "    <tr>\n",
       "      <th>579</th>\n",
       "      <td>NaN</td>\n",
       "      <td>NaN</td>\n",
       "      <td>gun control</td>\n",
       "      <td>Seed10</td>\n",
       "      <td>All</td>\n",
       "      <td>F1-avg (macroweigh)</td>\n",
       "      <td>0.5182</td>\n",
       "      <td>51.820000</td>\n",
       "      <td>0.5182</td>\n",
       "    </tr>\n",
       "    <tr>\n",
       "      <th>580</th>\n",
       "      <td>NaN</td>\n",
       "      <td>NaN</td>\n",
       "      <td>marijuana legal</td>\n",
       "      <td>Seed10</td>\n",
       "      <td>All</td>\n",
       "      <td>F1-avg (macroweigh)</td>\n",
       "      <td>0.6184</td>\n",
       "      <td>61.840000</td>\n",
       "      <td>0.6184</td>\n",
       "    </tr>\n",
       "    <tr>\n",
       "      <th>581</th>\n",
       "      <td>NaN</td>\n",
       "      <td>NaN</td>\n",
       "      <td>minimum wage</td>\n",
       "      <td>Seed10</td>\n",
       "      <td>All</td>\n",
       "      <td>F1-avg (macroweigh)</td>\n",
       "      <td>0.6764</td>\n",
       "      <td>67.640000</td>\n",
       "      <td>0.6764</td>\n",
       "    </tr>\n",
       "    <tr>\n",
       "      <th>582</th>\n",
       "      <td>NaN</td>\n",
       "      <td>NaN</td>\n",
       "      <td>nuclear energy</td>\n",
       "      <td>Seed10</td>\n",
       "      <td>All</td>\n",
       "      <td>F1-avg (macroweigh)</td>\n",
       "      <td>0.6476</td>\n",
       "      <td>64.760000</td>\n",
       "      <td>0.6476</td>\n",
       "    </tr>\n",
       "    <tr>\n",
       "      <th>583</th>\n",
       "      <td>NaN</td>\n",
       "      <td>NaN</td>\n",
       "      <td>school uniforms</td>\n",
       "      <td>Seed10</td>\n",
       "      <td>All</td>\n",
       "      <td>F1-avg (macroweigh)</td>\n",
       "      <td>0.6611</td>\n",
       "      <td>66.110000</td>\n",
       "      <td>0.6611</td>\n",
       "    </tr>\n",
       "  </tbody>\n",
       "</table>\n",
       "<p>560 rows × 9 columns</p>\n",
       "</div>"
      ],
      "text/plain": [
       "     level_0  index            Topic    Seed    Class               Metric  \\\n",
       "0        0.0    0.0         abortion   Seed1  Against                    P   \n",
       "1        1.0    1.0          cloning   Seed1  Against                    P   \n",
       "2        2.0    2.0    death penalty   Seed1  Against                    P   \n",
       "3        3.0    3.0      gun control   Seed1  Against                    P   \n",
       "4        4.0    4.0  marijuana legal   Seed1  Against                    P   \n",
       "..       ...    ...              ...     ...      ...                  ...   \n",
       "579      NaN    NaN      gun control  Seed10      All  F1-avg (macroweigh)   \n",
       "580      NaN    NaN  marijuana legal  Seed10      All  F1-avg (macroweigh)   \n",
       "581      NaN    NaN     minimum wage  Seed10      All  F1-avg (macroweigh)   \n",
       "582      NaN    NaN   nuclear energy  Seed10      All  F1-avg (macroweigh)   \n",
       "583      NaN    NaN  school uniforms  Seed10      All  F1-avg (macroweigh)   \n",
       "\n",
       "       Value  mean_class  mean_value  \n",
       "0    41.4400   43.352469         NaN  \n",
       "1    57.5600   67.486421         NaN  \n",
       "2    53.7000   57.766781         NaN  \n",
       "3    35.3700   44.749829         NaN  \n",
       "4    52.1700   49.791270         NaN  \n",
       "..       ...         ...         ...  \n",
       "579   0.5182   51.820000      0.5182  \n",
       "580   0.6184   61.840000      0.6184  \n",
       "581   0.6764   67.640000      0.6764  \n",
       "582   0.6476   64.760000      0.6476  \n",
       "583   0.6611   66.110000      0.6611  \n",
       "\n",
       "[560 rows x 9 columns]"
      ]
     },
     "execution_count": 98,
     "metadata": {},
     "output_type": "execute_result"
    }
   ],
   "source": [
    "df_fourclass"
   ]
  },
  {
   "cell_type": "code",
   "execution_count": 299,
   "id": "eed2af28-6ec6-4a86-8b8f-a283c8bb353c",
   "metadata": {},
   "outputs": [
    {
     "data": {
      "text/html": [
       "<div>\n",
       "<style scoped>\n",
       "    .dataframe tbody tr th:only-of-type {\n",
       "        vertical-align: middle;\n",
       "    }\n",
       "\n",
       "    .dataframe tbody tr th {\n",
       "        vertical-align: top;\n",
       "    }\n",
       "\n",
       "    .dataframe thead th {\n",
       "        text-align: right;\n",
       "    }\n",
       "</style>\n",
       "<table border=\"1\" class=\"dataframe\">\n",
       "  <thead>\n",
       "    <tr style=\"text-align: right;\">\n",
       "      <th></th>\n",
       "      <th>level_0</th>\n",
       "      <th>mean_class</th>\n",
       "      <th>Class</th>\n",
       "      <th>Topic</th>\n",
       "    </tr>\n",
       "  </thead>\n",
       "  <tbody>\n",
       "    <tr>\n",
       "      <th>0</th>\n",
       "      <td>abortion</td>\n",
       "      <td>46.0</td>\n",
       "      <td>All</td>\n",
       "      <td>abortion</td>\n",
       "    </tr>\n",
       "    <tr>\n",
       "      <th>1</th>\n",
       "      <td>cloning</td>\n",
       "      <td>59.0</td>\n",
       "      <td>All</td>\n",
       "      <td>cloning</td>\n",
       "    </tr>\n",
       "    <tr>\n",
       "      <th>2</th>\n",
       "      <td>death pen</td>\n",
       "      <td>48.0</td>\n",
       "      <td>All</td>\n",
       "      <td>death pen</td>\n",
       "    </tr>\n",
       "    <tr>\n",
       "      <th>3</th>\n",
       "      <td>gun contr</td>\n",
       "      <td>51.0</td>\n",
       "      <td>All</td>\n",
       "      <td>gun contr</td>\n",
       "    </tr>\n",
       "    <tr>\n",
       "      <th>4</th>\n",
       "      <td>marijuana</td>\n",
       "      <td>32.0</td>\n",
       "      <td>All</td>\n",
       "      <td>marijuana</td>\n",
       "    </tr>\n",
       "    <tr>\n",
       "      <th>5</th>\n",
       "      <td>min wage</td>\n",
       "      <td>61.0</td>\n",
       "      <td>All</td>\n",
       "      <td>min wage</td>\n",
       "    </tr>\n",
       "    <tr>\n",
       "      <th>6</th>\n",
       "      <td>nuclear</td>\n",
       "      <td>60.0</td>\n",
       "      <td>All</td>\n",
       "      <td>nuclear</td>\n",
       "    </tr>\n",
       "    <tr>\n",
       "      <th>7</th>\n",
       "      <td>school unif.</td>\n",
       "      <td>58.0</td>\n",
       "      <td>All</td>\n",
       "      <td>school unif.</td>\n",
       "    </tr>\n",
       "  </tbody>\n",
       "</table>\n",
       "</div>"
      ],
      "text/plain": [
       "        level_0 mean_class Class         Topic\n",
       "0      abortion       46.0   All      abortion\n",
       "1       cloning       59.0   All       cloning\n",
       "2     death pen       48.0   All     death pen\n",
       "3     gun contr       51.0   All     gun contr\n",
       "4     marijuana       32.0   All     marijuana\n",
       "5      min wage       61.0   All      min wage\n",
       "6       nuclear       60.0   All       nuclear\n",
       "7  school unif.       58.0   All  school unif."
      ]
     },
     "execution_count": 299,
     "metadata": {},
     "output_type": "execute_result"
    }
   ],
   "source": [
    "F1_SVM = pd.DataFrame([0.46, 0.59, 0.48, 0.51, 0.32,0.61, 0.60, 0.58],[topics])\n",
    "F1_SVM = F1_SVM * 100 \n",
    "F1_SVM[\"Class\"] = \"All\"\n",
    "F1_SVM = F1_SVM.T\n",
    "F1_SVM = F1_SVM.rename(index={F1_SVM.index[0]: \"mean_class\"})\n",
    "F1_SVM = F1_SVM.T\n",
    "F1_SVM.reset_index(level=0, inplace=True)\n",
    "F1_SVM[\"Topic\"] = F1_SVM[\"level_0\"]\n",
    "F1_SVM"
   ]
  },
  {
   "cell_type": "code",
   "execution_count": 303,
   "id": "982d00c9-2b05-487b-a0f1-5939f7af0cc1",
   "metadata": {},
   "outputs": [
    {
     "data": {
      "text/plain": [
       "<AxesSubplot:xlabel='Topic', ylabel='mean_class'>"
      ]
     },
     "execution_count": 303,
     "metadata": {},
     "output_type": "execute_result"
    },
    {
     "data": {
      "image/png": "[encoded data removed]",
      "text/plain": [
       "<Figure size 432x288 with 1 Axes>"
      ]
     },
     "metadata": {},
     "output_type": "display_data"
    }
   ],
   "source": [
    "sn.pointplot(data=F1_SVM, y='mean_class', x='Topic', color='black', scale=0.50, join=False)"
   ]
  },
  {
   "cell_type": "code",
   "execution_count": null,
   "id": "0c63ac42-87ae-4c6c-9e5d-0f979593b12c",
   "metadata": {},
   "outputs": [],
   "source": [
    "SVM_F1 = [0.46, 0.59, 0.48, 0.51, 0.32,0.61, 0.60, 0.58]\n",
    "BERT_F1 = [0.53342, 0.69353, 0.56194, 0.53034, 0.6068, 0.67013, 0.66053, 0.67831]\n",
    "\n",
    "plt.figure(figsize=(25, 15))\n",
    "sn.set_style('white')\n",
    "sn.set_context('paper')\n",
    "sn.set_style('ticks', {'axes.edgecolor': '0',  \n",
    "                        'xtick.color': '0',\n",
    "                        'ytick.color': '0'})\n",
    "\n",
    "g = sn.catplot(x=\"Class\", kind=\"box\", col=\"Topic\", col_wrap=4, y=\"mean_class\", ci=\"sd\", legend_out=True, height=3, aspect=.7, data=df_fourclass, palette=['white'])\n",
    "\n",
    "# g = g.map(sn.pointplot(data=F1_SVM, join=False, color='red', scale=0.50))\n",
    "g.set(ylim=(0,100))\n",
    "\n",
    "# plt.tick_params(axis='y', which='major', labelsize=3, length=2, pad=-5)\n",
    "g.set_xticklabels([\"Pro \", \"Con \", \"No arg \", \"All \"], rotation=90, va=\"center\")\n",
    "g.set_ylabels('F1', fontsize=11)\n",
    "g.set_xlabels('Class', fontsize=11)\n",
    "#g.set_titles(\"abortion\", \"cloning\", \"death penalty\", \"gun control\", \"marijuana legal\", \"minimum wage\", \"nuclear energy\", \"school uniforms\")\n",
    "\n",
    "axes = g.axes.flatten()\n",
    "print(len(axes))\n",
    "for ax in axes:\n",
    "    ax.axhline(61.69, ls='--', linewidth=1.5, color='red', label=\"BERT mean F1 averaged\")\n",
    "    \n",
    "for n in range(0, 8):\n",
    "    #axes[n].axhline(BERT_F1[n] * 100, ls='-.', dash_capstyle='round', marker='v', color='orange', label=\"BERT model F1 on topic\")\n",
    "    #axes[n].axhline(SVM_F1[n] * 100, ls=':', dash_capstyle='round', color='blue', label=\"SVM model F1 on topic\")\n",
    "    axes[n].set_title(topics[n])\n",
    "    \n",
    "    \n",
    "#axes[0].axhline(46, ls='-', dash_capstyle='round', color='blue', label=\"SVM model topic F1\")\n",
    "# axes[0].set_title(\"abortion\")\n",
    "\n",
    "\n",
    "plt.legend(bbox_to_anchor=(1.05, 1), loc='upper left')\n",
    "plt.tight_layout()\n",
    "plt.savefig(\"Topic_boxplot.png\")"
   ]
  },
  {
   "cell_type": "code",
   "execution_count": 414,
   "id": "5de95fcf-00b2-493f-b7ca-fc6201b7c9e5",
   "metadata": {},
   "outputs": [
    {
     "name": "stdout",
     "output_type": "stream",
     "text": [
      "8\n"
     ]
    },
    {
     "data": {
      "image/png": "[encoded data removed]",
      "text/plain": [
       "<Figure size 1036.8x864 with 8 Axes>"
      ]
     },
     "metadata": {},
     "output_type": "display_data"
    }
   ],
   "source": [
    "SVM_F1 = [0.46, 0.59, 0.48, 0.51, 0.32,0.61, 0.60, 0.58]\n",
    "BERT_F1 = [0.53342, 0.69353, 0.56194, 0.53034, 0.6068, 0.67013, 0.66053, 0.67831]\n",
    "SVM_TOPICS_F1 = [.463, .585, .482, .515, .323, .615, .598, .576] \n",
    "\n",
    "# plt.figure(figsize=(50, 30))\n",
    "sn.set_style('white')\n",
    "sn.set_context('paper')\n",
    "sn.set_style('ticks', {'axes.edgecolor': '0',  \n",
    "                        'xtick.color': '0',\n",
    "                        'ytick.color': '0'})\n",
    "\n",
    "g = sn.catplot(x=\"Class\", kind=\"box\", col=\"Topic\", col_wrap=4, y=\"mean_class\", ci=\"sd\", legend_out=True, height=6, aspect=.6, data=df_fourclass, palette=['white'])\n",
    "\n",
    "# g = g.map(sn.pointplot(data=F1_SVM, join=False, color='red', scale=0.50))\n",
    "g.set(ylim=(0,100))\n",
    "\n",
    "# plt.tick_params(axis='y', which='major', labelsize=3, length=2, pad=-5)\n",
    "g.set_xticklabels([\"Pro \", \"Con \", \"No arg \", \"All \"], rotation=45, va=\"center\", fontsize=14)\n",
    "g.set_ylabels('F1', fontsize=15)\n",
    "g.set_xlabels('Class', fontsize=15)\n",
    "#g.set_titles(\"abortion\", \"cloning\", \"death penalty\", \"gun control\", \"marijuana legal\", \"minimum wage\", \"nuclear energy\", \"school uniforms\")\n",
    "\n",
    "axes = g.axes.flatten()\n",
    "print(len(axes))\n",
    "for ax in axes:\n",
    "    ax.axhline(61.69, ls='--', linewidth=1.5, color='red', label=\"BERT model mean F1\")\n",
    "    \n",
    "for n in range(0, 8):\n",
    "    #axes[n].axhline(BERT_F1[n] * 100, ls='-.', dash_capstyle='round', marker='v', color='orange', label=\"BERT model F1 on topic\")\n",
    "    #axes[n].axhline(SVM_F1[n] * 100, ls=':', dash_capstyle='round', color='blue', label=\"SVM model F1 on topic\")\n",
    "    axes[n].set_title(topics[n], fontsize=17)\n",
    "    \n",
    "    \n",
    "#axes[0].axhline(46, ls='-', dash_capstyle='round', color='blue', label=\"SVM model topic F1\")\n",
    "# axes[0].set_title(\"abortion\")\n",
    "\n",
    "\n",
    "plt.legend(bbox_to_anchor=(0.5, -0.7), loc='lower center', fontsize=15)\n",
    "plt.tight_layout()\n",
    "plt.savefig(\"Topic_boxplot.png\")"
   ]
  },
  {
   "cell_type": "code",
   "execution_count": null,
   "id": "3c93545d-a9a6-43c2-8b03-c2a8dd2ef14a",
   "metadata": {},
   "outputs": [],
   "source": [
    "plt.figure(figsize=(20, 8))\n",
    "#topics =[\"abortion\", \"cloning\", \"death pen\", \"gun contr\", \"marijuana\", \"min wage\", \"nuclear\", \"school uniforms\"]\n",
    "\n",
    "# sn.set_style('ticks')\n",
    "#ax = sns.FacetGrid(df_Precision_Recall.reset_index(),col=\"Topic\", size=5, aspect=1.5)\n",
    "ax = sn.catplot(x=\"Class\", kind=\"box\", col=\"Topic\", col_wrap=4, y=\"mean_class\", ci=\"sd\", data=df_threeclass.reset_index(),)\n",
    "ax.set(ylim=(0,100))\n",
    "# ax1, ax2 = ax.axes[0]\n",
    "ax.axhlines(51.9, ls=\"--\", color=\"red\", label=\"Mean Precision\")\n",
    "\n",
    "# plt.tick_params(axis='y,labelleft='on',labelright='on')\n",
    "# ax1, ax2 = ax.axes[0]\n",
    "# # ax2.axhline(51.9, ls=\"--\", color=\"red\", label=\"Mean Precision\")\n",
    "# # ax2.axhline(46,41, ls=\"-\", color=\"blue\", label=\"Mean Recall\")\n",
    "#df_Precision_Recall.boxplot(by=\"Topic\")\n",
    "# # ax1.axhline(53,76, ls=\"--\", color=\"red\", label=\"Mean Precision\")\n",
    "# # ax1.axhline(58,13, ls=\"-\", color=\"blue\", label=\"Mean Recall\")\n",
    "# ax1.set_title(\"Precision\")\n",
    "# ax2.set_title(\"Recall\")\n",
    "plt.tick_params(axis='x', which='major')\n",
    "#ax.set_xticklabels(topics, fontsize=11, rotation=90)\n",
    "plt.ylabel('In-class F1', fontsize=11)\n",
    "plt.xlabel('Topics', fontsize=11)\n",
    "plt.tight_layout()\n",
    "# legend_labels, _= ax.get_legend_handles_labels()\n",
    "# ax.legend([ \"Against\", \"Pro\",'No Argument'], \n",
    "#           bbox_to_anchor=(1,1), \n",
    "#           title='legend')"
   ]
  },
  {
   "cell_type": "code",
   "execution_count": null,
   "id": "7c717189-0c01-4df3-a472-4ea30a02b010",
   "metadata": {},
   "outputs": [],
   "source": [
    "import seaborn as sns\n",
    "import matplotlib.pyplot as plt\n",
    "plt.figure(figsize=(16,10))\n",
    "sns.set(style=\"white\")\n",
    "\n",
    "#for ax_num, score in zip(range(1,5), ['f1', 'recall', 'accuracy', 'precision']):\n",
    "plt.subplot(2,2,2)\n",
    "sns.boxplot(x=\"Class\", col=\"Topic\", y=\"mean_class\",\n",
    "                data=df_Precision_Recall.reset_index(),)\n",
    "plt.xticks(rotation=15, fontsize=14)\n",
    "    \n",
    "plt.tight_layout()"
   ]
  },
  {
   "cell_type": "code",
   "execution_count": null,
   "id": "d64d0b94-ca4f-4863-ba1e-f7a1f5ead43d",
   "metadata": {},
   "outputs": [],
   "source": [
    "print(df_Precision_Recall.columns)"
   ]
  },
  {
   "cell_type": "code",
   "execution_count": null,
   "id": "0583967d-803e-4968-94f3-b5f57a89da7e",
   "metadata": {},
   "outputs": [],
   "source": [
    "# plt.figure(figsize=(35, 11))\n",
    "# sn.set_style('white')\n",
    "# ax = sn.catplot(x=\"Topic\", kind=\"bar\", hue=\"Class\", y=\"Value\", col=\"Metric\", ci=\"sd\", height=4, aspect=1.5, data=df_Precision_Recall.reset_index(),)\n",
    "# ax.set(ylim=(0,100))\n",
    "# ax1, ax2 = ax.axes[0]\n",
    "# ax1.axhline(51.9, ls=\"--\", color=\"blue\", label=\"Mean Precision\")\n",
    "# ax2.axhline(46.41, ls=\"-\", color=\"orange\", label=\"Mean Recall\")\n",
    "# legend_labels, _= ax2.get_legend_handles_labels()\n",
    "# ax2.legend(legend_labels, [ \"mean_prec\", \"mean_rec\",'Precision','Recall'], \n",
    "#           bbox_to_anchor=(1,1), \n",
    "#           title='Pro Argument')\n",
    "\n",
    "# plt.xlim(0.00001,5)"
   ]
  },
  {
   "cell_type": "code",
   "execution_count": null,
   "id": "fd6b8b5f-cf53-444a-9ec0-89b8d8132d71",
   "metadata": {},
   "outputs": [],
   "source": []
  },
  {
   "cell_type": "markdown",
   "id": "2a606a19-ec2e-416d-92e4-09e01c402d71",
   "metadata": {},
   "source": [
    "## Plot 4: F1 of classes"
   ]
  },
  {
   "cell_type": "code",
   "execution_count": null,
   "id": "0f221239-4641-49a1-99c1-9e28c8953b79",
   "metadata": {},
   "outputs": [],
   "source": [
    "df_current_F1[\"F1\"] = "
   ]
  },
  {
   "cell_type": "code",
   "execution_count": null,
   "id": "4303fe39-2670-49c6-9052-4ec09da26564",
   "metadata": {},
   "outputs": [],
   "source": [
    "# plt.figure(figsize=(50, 20))\n",
    "sn.set_style('white')\n",
    "ax = sn.catplot(x=\"Topic\", kind=\"bar\", hue=\"Class\", y=\"Value\", col=\"Metric\", ci=\"sd\", height=5, aspect=2, data=df_Precision_Recall.reset_index(),)\n",
    "ax.set(ylim=(0,100))\n",
    "ax1, ax2 = ax.axes[0]\n",
    "ax1.axhline(51.9, ls=\"--\", color=\"blue\", label=\"Mean Precision\")\n",
    "ax2.axhline(46.41, ls=\"-\", color=\"orange\", label=\"Mean Recall\")\n",
    "legend_labels, _= ax2.get_legend_handles_labels()\n",
    "ax2.legend(legend_labels, [ \"mean_prec\", \"mean_rec\",'Precision','Recall'], \n",
    "          bbox_to_anchor=(1,1), \n",
    "          title='Pro Argument')"
   ]
  },
  {
   "cell_type": "code",
   "execution_count": null,
   "id": "636fb22a-1e08-4dd6-82f7-5e5d0bccaef2",
   "metadata": {},
   "outputs": [],
   "source": [
    "# plt.figure(figsize=(50, 20))\n",
    "sn.set_style('ticks')\n",
    "ax = sn.catplot(x=\"Topic\", kind=\"bar\", y=\"Value\", col=\"Class\", ci=\"sd\", height=5, aspect=2, data=df_current_F1.reset_index(),)\n",
    "\n",
    "ax.set(ylim=(0,1))\n",
    "# ax1, ax2 = ax.axes[0]\n",
    "# ax2.axhline(51.9, ls=\"--\", color=\"red\", label=\"Mean Precision\")\n",
    "# ax2.axhline(46,41, ls=\"-\", color=\"blue\", label=\"Mean Recall\")\n",
    "\n",
    "# ax1.axhline(53,76, ls=\"--\", color=\"red\", label=\"Mean Precision\")\n",
    "# # ax1.axhline(58,13, ls=\"-\", color=\"blue\", label=\"Mean Recall\")\n",
    "# legend_labels, _= ax2.get_legend_handles_labels()\n",
    "# ax2.legend(legend_labels, [ \"mean_prec\", \"mean_rec\",'Precision','Recall'], \n",
    "#           bbox_to_anchor=(1,1), \n",
    "#           title='legend')"
   ]
  },
  {
   "cell_type": "markdown",
   "id": "dca36279-8d87-4b59-b620-a5e539a2f7bc",
   "metadata": {},
   "source": [
    "## Plot 5: Precision and Recall of the Against Class"
   ]
  },
  {
   "cell_type": "code",
   "execution_count": null,
   "id": "3ad8f880-65bb-4a13-910b-456f06089eb6",
   "metadata": {},
   "outputs": [],
   "source": [
    "plt.figure(figsize=(25, 10))\n",
    "ax = sn.barplot(x=\"Topic\", hue=\"Metric\", y=\"Value\", data=df_negativeClass.reset_index(),)\n",
    "ax.set(ylim=(0,100))\n",
    "ax.axhline(53.76, ls=\"--\", color=\"blue\", label=\"Mean Precision\")\n",
    "ax.axhline(58.13, ls=\"-\", color=\"orange\", label=\"Mean Recall\")\n",
    "legend_labels, _= ax.get_legend_handles_labels()\n",
    "ax.legend(legend_labels, [ \"mean_prec\", \"mean_rec\",'Precision','Recall'], \n",
    "          bbox_to_anchor=(1,1), \n",
    "          title='Against Argument')"
   ]
  },
  {
   "cell_type": "code",
   "execution_count": null,
   "id": "11817722-794d-4f72-a27e-5a9b12d56221",
   "metadata": {},
   "outputs": [],
   "source": []
  },
  {
   "cell_type": "code",
   "execution_count": null,
   "id": "fe40a9d2-23aa-4125-8f82-99f6cae81026",
   "metadata": {},
   "outputs": [],
   "source": []
  },
  {
   "cell_type": "code",
   "execution_count": null,
   "id": "98780b0b-094d-40e1-9db0-76fdf7feee14",
   "metadata": {},
   "outputs": [],
   "source": []
  },
  {
   "cell_type": "code",
   "execution_count": null,
   "id": "d13c4c24-19ec-470e-9650-2ee19e0429b8",
   "metadata": {},
   "outputs": [],
   "source": []
  },
  {
   "cell_type": "code",
   "execution_count": null,
   "id": "206b1d42-ac9f-412f-ba31-eda8ca2c6d9c",
   "metadata": {},
   "outputs": [],
   "source": []
  },
  {
   "cell_type": "code",
   "execution_count": null,
   "id": "2bab6261-45f0-4e8b-b6b5-79d1caf61592",
   "metadata": {},
   "outputs": [],
   "source": []
  },
  {
   "cell_type": "code",
   "execution_count": null,
   "id": "cbffc71f-2939-4fb7-aa53-ce8470eaf4f9",
   "metadata": {},
   "outputs": [],
   "source": []
  },
  {
   "cell_type": "code",
   "execution_count": null,
   "id": "74d50b12-790e-43ac-96e7-c739316398e3",
   "metadata": {},
   "outputs": [],
   "source": []
  }
 ],
 "metadata": {
  "kernelspec": {
   "display_name": "Python 3",
   "language": "python",
   "name": "python3"
  },
  "language_info": {
   "codemirror_mode": {
    "name": "ipython",
    "version": 3
   },
   "file_extension": ".py",
   "mimetype": "text/x-python",
   "name": "python",
   "nbconvert_exporter": "python",
   "pygments_lexer": "ipython3",
   "version": "3.9.5"
  }
 },
 "nbformat": 4,
 "nbformat_minor": 5
}
