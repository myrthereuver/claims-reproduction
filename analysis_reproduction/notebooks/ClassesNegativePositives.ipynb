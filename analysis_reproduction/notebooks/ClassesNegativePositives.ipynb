{
 "cells": [
  {
   "cell_type": "code",
   "execution_count": 38,
   "id": "fdd111aa-1a4b-4c93-af64-98e20b659004",
   "metadata": {},
   "outputs": [],
   "source": [
    "import sklearn\n",
    "import pandas as pd\n",
    "import matplotlib.pyplot as plt\n",
    "import numpy as np\n",
    "import seaborn as sn"
   ]
  },
  {
   "cell_type": "code",
   "execution_count": 39,
   "id": "0f6fb35e-c35b-4816-a9dd-b8b0cd0937d4",
   "metadata": {},
   "outputs": [],
   "source": [
    "topics =[\"abortion\", \"cloning\", \"death penalty\", \"gun control\", \"marijuana legalization\", \"minimum wage\", \"nuclear energy\", \"school uniforms\"]\n",
    "seeds = [\"Seed1\", \"Seed2\", \"Seed3\", \"Seed4\", \"Seed5\", \"Seed6\", \"Seed7\", \"Seed8\", \"Seed9\", \"Seed10\"]"
   ]
  },
  {
   "cell_type": "code",
   "execution_count": 40,
   "id": "c68b3662-792c-4c6a-b728-2d97be219a94",
   "metadata": {},
   "outputs": [],
   "source": [
    "def import_as_dataframe(seed, topic):\n",
    "    input_file = f'/Users/myrthereuver/PycharmProjects/Claim_reproduction/acl2019-BERT-argument-classification-and-clustering-master/argument-classification/bert_output/bert_output/31May/ukp/{seed}/bert-base-topic-sentence/{topic}_test_topic/test_predictions.txt'\n",
    "    df_current = pd.read_csv(input_file.format(seed, topic), delimiter = \"\\t\", names=[\"True\", \"Pred\", \"Topic\", \"Claim\"])\n",
    "    return df_current"
   ]
  },
  {
   "cell_type": "markdown",
   "id": "3bc9cce0-2a24-441d-88bc-3ecd8f1c1156",
   "metadata": {},
   "source": [
    "### Import data"
   ]
  },
  {
   "cell_type": "code",
   "execution_count": 49,
   "id": "16173a66-7bb8-4185-8f7e-42cf2d70ab02",
   "metadata": {},
   "outputs": [],
   "source": [
    "seed_1_list = [import_as_dataframe('Seed1', t) for t in topics]\n",
    "seed_2_list = [import_as_dataframe('Seed2', t) for t in topics]\n",
    "seed_3_list = [import_as_dataframe('Seed3', t) for t in topics]\n",
    "seed_4_list = [import_as_dataframe('Seed4', t) for t in topics]\n",
    "seed_5_list = [import_as_dataframe('Seed5', t) for t in topics]\n",
    "seed_6_list = [import_as_dataframe('Seed6', t) for t in topics]\n",
    "seed_7_list = [import_as_dataframe('Seed7', t) for t in topics]\n",
    "seed_8_list = [import_as_dataframe('Seed8', t) for t in topics]\n",
    "seed_9_list = [import_as_dataframe('Seed9', t) for t in topics]\n",
    "seed_10_list = [import_as_dataframe('Seed10', t) for t in topics]"
   ]
  },
  {
   "cell_type": "code",
   "execution_count": 50,
   "id": "6fb3e277-0f07-4b80-abf9-47a4d84fd4fd",
   "metadata": {},
   "outputs": [],
   "source": [
    "df_all_seed1 = pd.concat(seed_1_list)\n",
    "df_all_seed2 = pd.concat(seed_2_list)\n",
    "df_all_seed3 = pd.concat(seed_3_list)\n",
    "df_all_seed4 = pd.concat(seed_4_list)\n",
    "df_all_seed5 = pd.concat(seed_5_list)\n",
    "df_all_seed6 = pd.concat(seed_6_list)\n",
    "df_all_seed7 = pd.concat(seed_7_list)\n",
    "df_all_seed8 = pd.concat(seed_8_list)\n",
    "df_all_seed9 = pd.concat(seed_9_list)\n",
    "df_all_seed10 = pd.concat(seed_10_list)\n",
    "\n",
    "df_all_list = [df_all_seed1, df_all_seed2, df_all_seed3, df_all_seed4, df_all_seed5, df_all_seed6, df_all_seed7, df_all_seed8, df_all_seed9, df_all_seed10]"
   ]
  },
  {
   "cell_type": "markdown",
   "id": "507c708f-1c99-477e-a567-d038a504a3c3",
   "metadata": {},
   "source": [
    "### Add classes: TP, TN, FP, TP"
   ]
  },
  {
   "cell_type": "code",
   "execution_count": 88,
   "id": "31508b2c-9638-460a-9f05-66cb4fc4e7b6",
   "metadata": {},
   "outputs": [],
   "source": [
    "\n",
    "def PosNegClass(df, label):\n",
    "    column = f'class_{label}'\n",
    "    df[column] = np.where(((df['Pred'] == label)&(df['True'] == label)), 'TP', '0')                        \n",
    "    df[column] = np.where(((df['Pred'] == label)&(df['True'] != label)), 'FP', df[column] )         \n",
    "    df[column] = np.where(((df['Pred'] != label)&(df['True'] != label)), 'TN', df[column] )      \n",
    "    df[column] = np.where(((df['Pred'] != label)&(df['True'] == label)), 'FN', df[column] )  \n",
    "    return df\n",
    "    \n"
   ]
  },
  {
   "cell_type": "markdown",
   "id": "bfb72e99-5932-47f2-a4d9-1c00ff5d7ffb",
   "metadata": {},
   "source": [
    "#### No Argument"
   ]
  },
  {
   "cell_type": "code",
   "execution_count": 89,
   "id": "8b71b048-d4f9-4da1-bdef-b608aea32436",
   "metadata": {},
   "outputs": [
    {
     "data": {
      "text/html": [
       "<div>\n",
       "<style scoped>\n",
       "    .dataframe tbody tr th:only-of-type {\n",
       "        vertical-align: middle;\n",
       "    }\n",
       "\n",
       "    .dataframe tbody tr th {\n",
       "        vertical-align: top;\n",
       "    }\n",
       "\n",
       "    .dataframe thead th {\n",
       "        text-align: right;\n",
       "    }\n",
       "</style>\n",
       "<table border=\"1\" class=\"dataframe\">\n",
       "  <thead>\n",
       "    <tr style=\"text-align: right;\">\n",
       "      <th></th>\n",
       "      <th>True</th>\n",
       "      <th>Pred</th>\n",
       "      <th>Topic</th>\n",
       "      <th>Claim</th>\n",
       "      <th>class_NoArgument</th>\n",
       "      <th>class_Argument_against</th>\n",
       "      <th>class_Argument_for</th>\n",
       "    </tr>\n",
       "  </thead>\n",
       "  <tbody>\n",
       "    <tr>\n",
       "      <th>0</th>\n",
       "      <td>NoArgument</td>\n",
       "      <td>NoArgument</td>\n",
       "      <td>abortion</td>\n",
       "      <td>With that I would like to give everyone someth...</td>\n",
       "      <td>TP</td>\n",
       "      <td>TN</td>\n",
       "      <td>TN</td>\n",
       "    </tr>\n",
       "    <tr>\n",
       "      <th>1</th>\n",
       "      <td>NoArgument</td>\n",
       "      <td>NoArgument</td>\n",
       "      <td>abortion</td>\n",
       "      <td>Do not judge , or you may be judged yourself .</td>\n",
       "      <td>TP</td>\n",
       "      <td>TN</td>\n",
       "      <td>TN</td>\n",
       "    </tr>\n",
       "    <tr>\n",
       "      <th>2</th>\n",
       "      <td>NoArgument</td>\n",
       "      <td>NoArgument</td>\n",
       "      <td>abortion</td>\n",
       "      <td>Results have varied from poll to poll , countr...</td>\n",
       "      <td>TP</td>\n",
       "      <td>TN</td>\n",
       "      <td>TN</td>\n",
       "    </tr>\n",
       "  </tbody>\n",
       "</table>\n",
       "</div>"
      ],
      "text/plain": [
       "         True        Pred     Topic  \\\n",
       "0  NoArgument  NoArgument  abortion   \n",
       "1  NoArgument  NoArgument  abortion   \n",
       "2  NoArgument  NoArgument  abortion   \n",
       "\n",
       "                                               Claim class_NoArgument  \\\n",
       "0  With that I would like to give everyone someth...               TP   \n",
       "1     Do not judge , or you may be judged yourself .               TP   \n",
       "2  Results have varied from poll to poll , countr...               TP   \n",
       "\n",
       "  class_Argument_against class_Argument_for  \n",
       "0                     TN                 TN  \n",
       "1                     TN                 TN  \n",
       "2                     TN                 TN  "
      ]
     },
     "execution_count": 89,
     "metadata": {},
     "output_type": "execute_result"
    }
   ],
   "source": [
    "df_posNeg = PosNegClass(df_all_seed1, \"NoArgument\")\n",
    "df_posNeg[:3]"
   ]
  },
  {
   "cell_type": "markdown",
   "id": "38c3825b-0d93-42ae-8a98-430c4915e1de",
   "metadata": {},
   "source": [
    "#### Argument against"
   ]
  },
  {
   "cell_type": "code",
   "execution_count": 55,
   "id": "d4eb443b-15c6-4dbe-9552-585329c6fce0",
   "metadata": {},
   "outputs": [
    {
     "data": {
      "text/html": [
       "<div>\n",
       "<style scoped>\n",
       "    .dataframe tbody tr th:only-of-type {\n",
       "        vertical-align: middle;\n",
       "    }\n",
       "\n",
       "    .dataframe tbody tr th {\n",
       "        vertical-align: top;\n",
       "    }\n",
       "\n",
       "    .dataframe thead th {\n",
       "        text-align: right;\n",
       "    }\n",
       "</style>\n",
       "<table border=\"1\" class=\"dataframe\">\n",
       "  <thead>\n",
       "    <tr style=\"text-align: right;\">\n",
       "      <th></th>\n",
       "      <th>True</th>\n",
       "      <th>Pred</th>\n",
       "      <th>Topic</th>\n",
       "      <th>Claim</th>\n",
       "      <th>class_NoArgument</th>\n",
       "      <th>class_Argument_against</th>\n",
       "      <th>class_Argument_for</th>\n",
       "    </tr>\n",
       "  </thead>\n",
       "  <tbody>\n",
       "    <tr>\n",
       "      <th>0</th>\n",
       "      <td>NoArgument</td>\n",
       "      <td>NoArgument</td>\n",
       "      <td>abortion</td>\n",
       "      <td>With that I would like to give everyone someth...</td>\n",
       "      <td>TP</td>\n",
       "      <td>TN</td>\n",
       "      <td>TN</td>\n",
       "    </tr>\n",
       "    <tr>\n",
       "      <th>1</th>\n",
       "      <td>NoArgument</td>\n",
       "      <td>NoArgument</td>\n",
       "      <td>abortion</td>\n",
       "      <td>Do not judge , or you may be judged yourself .</td>\n",
       "      <td>TP</td>\n",
       "      <td>TN</td>\n",
       "      <td>TN</td>\n",
       "    </tr>\n",
       "    <tr>\n",
       "      <th>2</th>\n",
       "      <td>NoArgument</td>\n",
       "      <td>NoArgument</td>\n",
       "      <td>abortion</td>\n",
       "      <td>Results have varied from poll to poll , countr...</td>\n",
       "      <td>TP</td>\n",
       "      <td>TN</td>\n",
       "      <td>TN</td>\n",
       "    </tr>\n",
       "  </tbody>\n",
       "</table>\n",
       "</div>"
      ],
      "text/plain": [
       "         True        Pred     Topic  \\\n",
       "0  NoArgument  NoArgument  abortion   \n",
       "1  NoArgument  NoArgument  abortion   \n",
       "2  NoArgument  NoArgument  abortion   \n",
       "\n",
       "                                               Claim class_NoArgument  \\\n",
       "0  With that I would like to give everyone someth...               TP   \n",
       "1     Do not judge , or you may be judged yourself .               TP   \n",
       "2  Results have varied from poll to poll , countr...               TP   \n",
       "\n",
       "  class_Argument_against class_Argument_for  \n",
       "0                     TN                 TN  \n",
       "1                     TN                 TN  \n",
       "2                     TN                 TN  "
      ]
     },
     "execution_count": 55,
     "metadata": {},
     "output_type": "execute_result"
    }
   ],
   "source": [
    "df_posNeg = PosNegClass(df_all_seed1, \"Argument_against\")\n",
    "df_posNeg[:3]"
   ]
  },
  {
   "cell_type": "markdown",
   "id": "0516b173-359d-4a87-82a5-aa14275aac32",
   "metadata": {},
   "source": [
    "#### Argument_for"
   ]
  },
  {
   "cell_type": "code",
   "execution_count": 56,
   "id": "42c4ce10-9594-4b1d-9742-b66be54e61b0",
   "metadata": {},
   "outputs": [
    {
     "data": {
      "text/html": [
       "<div>\n",
       "<style scoped>\n",
       "    .dataframe tbody tr th:only-of-type {\n",
       "        vertical-align: middle;\n",
       "    }\n",
       "\n",
       "    .dataframe tbody tr th {\n",
       "        vertical-align: top;\n",
       "    }\n",
       "\n",
       "    .dataframe thead th {\n",
       "        text-align: right;\n",
       "    }\n",
       "</style>\n",
       "<table border=\"1\" class=\"dataframe\">\n",
       "  <thead>\n",
       "    <tr style=\"text-align: right;\">\n",
       "      <th></th>\n",
       "      <th>True</th>\n",
       "      <th>Pred</th>\n",
       "      <th>Topic</th>\n",
       "      <th>Claim</th>\n",
       "      <th>class_NoArgument</th>\n",
       "      <th>class_Argument_against</th>\n",
       "      <th>class_Argument_for</th>\n",
       "    </tr>\n",
       "  </thead>\n",
       "  <tbody>\n",
       "    <tr>\n",
       "      <th>0</th>\n",
       "      <td>NoArgument</td>\n",
       "      <td>NoArgument</td>\n",
       "      <td>abortion</td>\n",
       "      <td>With that I would like to give everyone someth...</td>\n",
       "      <td>TP</td>\n",
       "      <td>TN</td>\n",
       "      <td>TN</td>\n",
       "    </tr>\n",
       "    <tr>\n",
       "      <th>1</th>\n",
       "      <td>NoArgument</td>\n",
       "      <td>NoArgument</td>\n",
       "      <td>abortion</td>\n",
       "      <td>Do not judge , or you may be judged yourself .</td>\n",
       "      <td>TP</td>\n",
       "      <td>TN</td>\n",
       "      <td>TN</td>\n",
       "    </tr>\n",
       "    <tr>\n",
       "      <th>2</th>\n",
       "      <td>NoArgument</td>\n",
       "      <td>NoArgument</td>\n",
       "      <td>abortion</td>\n",
       "      <td>Results have varied from poll to poll , countr...</td>\n",
       "      <td>TP</td>\n",
       "      <td>TN</td>\n",
       "      <td>TN</td>\n",
       "    </tr>\n",
       "  </tbody>\n",
       "</table>\n",
       "</div>"
      ],
      "text/plain": [
       "         True        Pred     Topic  \\\n",
       "0  NoArgument  NoArgument  abortion   \n",
       "1  NoArgument  NoArgument  abortion   \n",
       "2  NoArgument  NoArgument  abortion   \n",
       "\n",
       "                                               Claim class_NoArgument  \\\n",
       "0  With that I would like to give everyone someth...               TP   \n",
       "1     Do not judge , or you may be judged yourself .               TP   \n",
       "2  Results have varied from poll to poll , countr...               TP   \n",
       "\n",
       "  class_Argument_against class_Argument_for  \n",
       "0                     TN                 TN  \n",
       "1                     TN                 TN  \n",
       "2                     TN                 TN  "
      ]
     },
     "execution_count": 56,
     "metadata": {},
     "output_type": "execute_result"
    }
   ],
   "source": [
    "df_posNeg = PosNegClass(df_all_seed1, \"Argument_for\")\n",
    "df_posNeg[:3]"
   ]
  },
  {
   "cell_type": "markdown",
   "id": "5cce0f1a-0924-4b0f-ae1f-9b8d32a4fd4d",
   "metadata": {},
   "source": [
    "### plotting the confusion class (TP, FN, FP, TN) count"
   ]
  },
  {
   "cell_type": "markdown",
   "id": "abbee940-795b-4ffa-9560-6b0849d66ad8",
   "metadata": {},
   "source": [
    "df_posNeg['class_NoArgument'].value_counts()"
   ]
  },
  {
   "cell_type": "markdown",
   "id": "a381e186-baa1-41c2-bc8b-f1532ad16a7e",
   "metadata": {},
   "source": [
    "#### No Argument"
   ]
  },
  {
   "cell_type": "code",
   "execution_count": 66,
   "id": "47b5762a-bc9c-418f-a132-a54b1d9ec7a5",
   "metadata": {},
   "outputs": [
    {
     "data": {
      "image/png": "[encoded data removed]",
      "text/plain": [
       "<Figure size 504x360 with 1 Axes>"
      ]
     },
     "metadata": {
      "needs_background": "light"
     },
     "output_type": "display_data"
    }
   ],
   "source": [
    "counts = df_posNeg['class_NoArgument'].value_counts()\n",
    "\n",
    "# plot\n",
    "counts.plot.bar(figsize=(7, 5))\n",
    "plt.xlabel('Confusion class No Argument')\n",
    "plt.ylabel('Count')\n",
    "plt.show()"
   ]
  },
  {
   "cell_type": "markdown",
   "id": "0a03aa6a-3862-44b1-bccb-f4da5dd9475c",
   "metadata": {},
   "source": [
    "#### Argument For"
   ]
  },
  {
   "cell_type": "code",
   "execution_count": 74,
   "id": "30b9a7a8-7312-44d4-b4fe-cce2ab32c2e0",
   "metadata": {},
   "outputs": [
    {
     "data": {
      "image/png": "[encoded data removed]",
      "text/plain": [
       "<Figure size 504x360 with 1 Axes>"
      ]
     },
     "metadata": {
      "needs_background": "light"
     },
     "output_type": "display_data"
    }
   ],
   "source": [
    "counts = df_posNeg['class_Argument_for'].value_counts()\n",
    "\n",
    "# plot\n",
    "counts.plot.bar(figsize=(7, 5))\n",
    "plt.xlabel('Confusion class argument for')\n",
    "plt.ylabel('Count')\n",
    "plt.show()"
   ]
  },
  {
   "cell_type": "markdown",
   "id": "2d60213a-8578-4db9-ae3d-a5cc8fd3362f",
   "metadata": {},
   "source": [
    "#### Argument Against"
   ]
  },
  {
   "cell_type": "code",
   "execution_count": 75,
   "id": "cae21b2b-fee3-4385-b89a-e6c5d93dab9a",
   "metadata": {},
   "outputs": [
    {
     "data": {
      "image/png": "[encoded data removed]",
      "text/plain": [
       "<Figure size 504x360 with 1 Axes>"
      ]
     },
     "metadata": {
      "needs_background": "light"
     },
     "output_type": "display_data"
    }
   ],
   "source": [
    "counts = df_posNeg['class_Argument_against'].value_counts()\n",
    "\n",
    "# plot\n",
    "counts.plot.bar(figsize=(7, 5))\n",
    "plt.xlabel('Confusion class Argument Against')\n",
    "plt.ylabel('Count')\n",
    "plt.show()"
   ]
  },
  {
   "cell_type": "markdown",
   "id": "4d6d5ae7-47fa-4cf8-82da-25bb97f04d66",
   "metadata": {},
   "source": [
    "### Plotting the confusion class (TP, FN, FP, TN) count per TOPIC"
   ]
  },
  {
   "cell_type": "code",
   "execution_count": 69,
   "id": "4e487260-75c5-4e6f-b27a-694a8aa0299d",
   "metadata": {},
   "outputs": [
    {
     "data": {
      "image/png": "[encoded data removed]",
      "text/plain": [
       "<Figure size 504x360 with 1 Axes>"
      ]
     },
     "metadata": {
      "needs_background": "light"
     },
     "output_type": "display_data"
    }
   ],
   "source": [
    "counts_topic = df_posNeg.groupby('Topic')['class_NoArgument'].value_counts().unstack()\n",
    "\n",
    "# plot\n",
    "counts_topic.plot.bar(figsize=(7, 5))\n",
    "plt.legend(title='confusion class', bbox_to_anchor=(1.05, 1), loc='upper left')\n",
    "plt.xlabel('Confusion class No Argument')\n",
    "plt.ylabel('Count')\n",
    "plt.show()"
   ]
  },
  {
   "cell_type": "code",
   "execution_count": 70,
   "id": "962f5e67-8458-42ea-8187-889ac3a6b4c0",
   "metadata": {},
   "outputs": [
    {
     "data": {
      "image/png": "[encoded data removed]",
      "text/plain": [
       "<Figure size 504x360 with 1 Axes>"
      ]
     },
     "metadata": {
      "needs_background": "light"
     },
     "output_type": "display_data"
    }
   ],
   "source": [
    "counts_topic = df_posNeg.groupby('Topic')['class_Argument_for'].value_counts().unstack()\n",
    "\n",
    "# plot\n",
    "counts_topic.plot.bar(figsize=(7, 5))\n",
    "plt.legend(title='confusion class', bbox_to_anchor=(1.05, 1), loc='upper left')\n",
    "plt.xlabel('Confusion class Argument For')\n",
    "plt.ylabel('Count')\n",
    "plt.show()"
   ]
  },
  {
   "cell_type": "code",
   "execution_count": 71,
   "id": "ccba1539-8983-4600-b31e-da1673ba3d75",
   "metadata": {},
   "outputs": [
    {
     "data": {
      "image/png": "[encoded data removed]",
      "text/plain": [
       "<Figure size 504x360 with 1 Axes>"
      ]
     },
     "metadata": {
      "needs_background": "light"
     },
     "output_type": "display_data"
    }
   ],
   "source": [
    "counts_topic = df_posNeg.groupby('Topic')['class_Argument_against'].value_counts().unstack()\n",
    "\n",
    "# plot\n",
    "counts_topic.plot.bar(figsize=(7, 5))\n",
    "plt.legend(title='confusion class', bbox_to_anchor=(1.05, 1), loc='upper left')\n",
    "plt.xlabel('Confusion class Argument against')\n",
    "plt.ylabel('Count')\n",
    "plt.show()"
   ]
  },
  {
   "cell_type": "code",
   "execution_count": 60,
   "id": "31d2cb1c-3576-449c-9ff3-e8b868e58405",
   "metadata": {},
   "outputs": [
    {
     "data": {
      "text/plain": [
       "Topic                   class_NoArgument\n",
       "abortion                TP                  373\n",
       "                        TN                  190\n",
       "                        FP                   85\n",
       "                        FN                   63\n",
       "cloning                 TN                  267\n",
       "                        TP                  223\n",
       "                        FN                   76\n",
       "                        FP                   43\n",
       "death penalty           TP                  292\n",
       "                        TN                  268\n",
       "                        FN                   99\n",
       "                        FP                   63\n",
       "gun control             TP                  293\n",
       "                        TN                  238\n",
       "                        FN                   85\n",
       "                        FP                   53\n",
       "marijuana legalization  TP                  218\n",
       "                        TN                  173\n",
       "                        FP                   60\n",
       "                        FN                   26\n",
       "minimum wage            TP                  227\n",
       "                        TN                  188\n",
       "                        FN                   42\n",
       "                        FP                   37\n",
       "nuclear energy          TP                  347\n",
       "                        TN                  229\n",
       "                        FN                   77\n",
       "                        FP                   64\n",
       "school uniforms         TP                  304\n",
       "                        TN                  193\n",
       "                        FP                   59\n",
       "                        FN                   43\n",
       "Name: class_NoArgument, dtype: int64"
      ]
     },
     "execution_count": 60,
     "metadata": {},
     "output_type": "execute_result"
    }
   ],
   "source": [
    "df_posNeg.groupby('Topic')['class_NoArgument'].value_counts()"
   ]
  },
  {
   "cell_type": "code",
   "execution_count": null,
   "id": "90879a66-32fe-4133-94b0-7c07fb15157d",
   "metadata": {},
   "outputs": [],
   "source": []
  },
  {
   "cell_type": "code",
   "execution_count": null,
   "id": "94133b87-bff3-4d0b-8751-3b036a825d01",
   "metadata": {},
   "outputs": [],
   "source": []
  },
  {
   "cell_type": "code",
   "execution_count": null,
   "id": "5d0bf43c-ff8d-497b-b822-56f9a63c8ff1",
   "metadata": {},
   "outputs": [],
   "source": []
  }
 ],
 "metadata": {
  "kernelspec": {
   "display_name": "Python 3",
   "language": "python",
   "name": "python3"
  },
  "language_info": {
   "codemirror_mode": {
    "name": "ipython",
    "version": 3
   },
   "file_extension": ".py",
   "mimetype": "text/x-python",
   "name": "python",
   "nbconvert_exporter": "python",
   "pygments_lexer": "ipython3",
   "version": "3.9.5"
  }
 },
 "nbformat": 4,
 "nbformat_minor": 5
}
